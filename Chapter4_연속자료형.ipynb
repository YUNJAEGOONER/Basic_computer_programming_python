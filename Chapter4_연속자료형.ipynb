{
  "nbformat": 4,
  "nbformat_minor": 0,
  "metadata": {
    "colab": {
      "name": "Chapter4_연속자료형.ipynb",
      "provenance": [],
      "collapsed_sections": [],
      "authorship_tag": "ABX9TyNUHu9VxwPuhKl+E/QnHRve",
      "include_colab_link": true
    },
    "kernelspec": {
      "name": "python3",
      "display_name": "Python 3"
    },
    "language_info": {
      "name": "python"
    }
  },
  "cells": [
    {
      "cell_type": "markdown",
      "metadata": {
        "id": "view-in-github",
        "colab_type": "text"
      },
      "source": [
        "<a href=\"https://colab.research.google.com/github/YUNJAEGOONER/Basic_computer_programming_python/blob/main/Chapter4_%EC%97%B0%EC%86%8D%EC%9E%90%EB%A3%8C%ED%98%95.ipynb\" target=\"_parent\"><img src=\"https://colab.research.google.com/assets/colab-badge.svg\" alt=\"Open In Colab\"/></a>"
      ]
    },
    {
      "cell_type": "markdown",
      "source": [
        "##연속자료형\n",
        "\n",
        "### 리스트 \n",
        "- 여러 개의 값을 가지는 변수\n",
        "- 대괄화를 사용하여 리스트 정의\n",
        "\n",
        "ex) temps = [ 27 , 30 , 32 , 34 , 39 , 25 ]\n",
        "\n",
        "- 하나의 리스트 변수 안에 서로 다른 자료형 포함 가능\n",
        "\n",
        "ex) num_str = [ 1, 2, 3, \"LG\", \"TWINS\"]\n",
        "\n",
        "- 리스트의 원소가 리스트가 될 수 도 있다.\n",
        "\n",
        "ex) list_inlist = [ [ 1, 2, 3] , [2, 4, 6] ]\n",
        "\n",
        "- 인덱스를 활용하여 리스트의 항목에 접근 할 수 있으며, index는 0부터 시작 ( index 범위를 벗아나게 되면 오류 발생 )\n",
        "  \n",
        "  +마지막 항목은 -1 로 접근 가능 \n",
        "\n",
        "- index로 리스트의 항목에 접근해 리스트의 항목 값 변경 가능\n",
        "\n",
        "- list내의 list의 경우 2차원 배열처럼 [ i ][ j ] 로 접근\n",
        "\n",
        "- list slicing [ start : end : step ]\n",
        "\n",
        "-> 처음 항목부터 추출할 때는 start 생략가능, 마지막 항목까지 추출할 때는 end 생략 가능\n",
        "\n",
        "-> start 부터 end - 1 까지 step 만큼 인덱스를 건너뛰며 추출 ( step 기본 값 : 1)\n",
        "\n",
        "-> step이 음수이면 뒤에서부터 추출 \n",
        "\n",
        "###리스트 전용함수\n",
        "+ list.append(x) : list의 마지막에 x를 추가\n",
        "+ insert(index, x) : list의 해당 index에 x를 삽입\n",
        "+ extend([ x1 , x2 ]) : list의 끝에 list [ x1, x2 ] 가 추가\n",
        "+ pop(index) : list의 해당 index의 항목을 삭제 + index생략 시, 리스트의 마지막 항목이 삭제\n",
        "+ remove(x) : list에서 처음 발견된 x를 삭제\n",
        "+ clear() : list의 모든 항목을 삭제\n",
        "+ count(x) : list에 포함된 x의 개수를 return \n",
        "+ index(x) : list에 x가 있다면, 그 위치를 반환\n",
        "+ sort() : list를 오름차순 정렬 (reverse 의 값을 True로 하게 되면 내림차순으로 정렬)\n",
        "\n",
        "### 리스트와 제어문\n",
        "연속자료형 변수는 조건문과 반목문 제어 구조 구현에 매우 효과적\n",
        "- 멤버 연산자 : \" in \" , \" not in \" : 자료형 내에 특정 값이 포함되어 있는가를 확인하는 연산자 \n",
        "\n",
        "### 리스트와 반복문 \n",
        "- 리스트 내 모든 항목에 대해 명령문을 반복 ( for문을 이용해 index로 모든 항목에 접근)"
      ],
      "metadata": {
        "id": "obeG2ZUx4uMj"
      }
    },
    {
      "cell_type": "code",
      "source": [
        "list_inlist = [[0,1,2],[3,4,5],[6,7,8,9],[10,11,12]]\n",
        "\n",
        "#[6,7,8,9]\n",
        "print(list_inlist[2]) \n",
        "\n",
        "#7\n",
        "print(list_inlist[2][1])\n",
        "\n",
        "#list slicicng  \n",
        "numbers = [10,20,30,40,50,60,70,80,90,100]\n",
        "\n",
        "#음수로 indexing 하게 되면 뒤에서 부터 접근 가능 ( -1이 맨 끝 )\n",
        "print(numbers[-1])\n",
        "\n",
        "#index 0번부터 4번까지 (step의 기본 값 : 1)\n",
        "print(numbers[0:5])\n",
        "\n",
        "#step이 2일 때 0번 부터 4번까지 step(2)간격으로 slicing 10[0],30[2],50[4]\n",
        "print(numbers[0:5:2])\n",
        "\n",
        "#음수로 slicing (-5번째 부터 -3번째 까지) {60, 70, 80}\n",
        "print(numbers[-5:-2])\n",
        "\n",
        "#step이 음수인 경우 : 뒤에서부터 추출 \n",
        "print (numbers[::-1]) \n",
        "\n",
        "# 뒤에서 부터 추출하는데, 스텝이 2인 경우 : [100, 80, 60, 40, 20]\n",
        "print(numbers[::-2]) \n",
        "\n",
        "reverse_numbers = numbers[::-1]\n",
        "reverse_numbers"
      ],
      "metadata": {
        "colab": {
          "base_uri": "https://localhost:8080/"
        },
        "id": "D9k1EZXn8CZ0",
        "outputId": "78d9bcd9-525a-4576-8be7-184920c602e4"
      },
      "execution_count": null,
      "outputs": [
        {
          "output_type": "stream",
          "name": "stdout",
          "text": [
            "[6, 7, 8, 9]\n",
            "7\n",
            "100\n",
            "[10, 20, 30, 40, 50]\n",
            "[10, 30, 50]\n",
            "[60, 70, 80]\n",
            "[100, 90, 80, 70, 60, 50, 40, 30, 20, 10]\n",
            "[100, 80, 60, 40, 20]\n"
          ]
        },
        {
          "output_type": "execute_result",
          "data": {
            "text/plain": [
              "[100, 90, 80, 70, 60, 50, 40, 30, 20, 10]"
            ]
          },
          "metadata": {},
          "execution_count": 1
        }
      ]
    },
    {
      "cell_type": "code",
      "source": [
        "# 1부터 100까지의 짝수 리스트 만들기\n",
        "even = []\n",
        "for i in range (1, 20 , 1):\n",
        "  if i % 2 == 0:\n",
        "    even.append(i)\n",
        "\n",
        "print(even)\n",
        "\n",
        "lst = [102,102,104]\n",
        "#list even에 list lst를 extend -> even의 맨뒤에 lst가 추가됨\n",
        "even.extend(lst)\n",
        "print(even)\n",
        "\n",
        "# remove(x) : list에서 가장 먼저 나타난 x를 삭제\n",
        "even.remove(102)\n",
        "print(even)\n",
        "\n",
        "# index(2) : list에서 2의 index를 return\n",
        "print(even.index(2))\n",
        "\n",
        "sort_list = [1,5,2,4,3] \n",
        "#sort()를 이용해 list 정렬\n",
        "sort_list.sort()\n",
        "print(sort_list)"
      ],
      "metadata": {
        "colab": {
          "base_uri": "https://localhost:8080/"
        },
        "id": "0GaLgPyKIGqg",
        "outputId": "efc73343-d222-46cf-c91f-034625161901"
      },
      "execution_count": null,
      "outputs": [
        {
          "output_type": "stream",
          "name": "stdout",
          "text": [
            "[2, 4, 6, 8, 10, 12, 14, 16, 18]\n",
            "[2, 4, 6, 8, 10, 12, 14, 16, 18, 102, 102, 104]\n",
            "[2, 4, 6, 8, 10, 12, 14, 16, 18, 102, 104]\n",
            "0\n",
            "[1, 2, 3, 4, 5]\n"
          ]
        }
      ]
    },
    {
      "cell_type": "code",
      "source": [
        "#멤버연산자 : in , not in\n",
        "\n",
        "alist = [50,\"python\",20,'pnu']\n",
        "print(20 in alist) #20이 alist에 포함되어 있느냐 -> True\n",
        "print('LG' in alist) #'LG'가 alist에 포함되어 있느냐 -> False\n",
        "print(50 not in alist) # 50이 alist에 없느냐 -> False (50이 alist에 포함되어있음)\n",
        "print('twins' not in alist) # 'twins'가 alist에 없느냐 -> True (twins가 alist에 없음)\n",
        "\n",
        "menu = [\"hambuger\", \"pizza\" , \"pasta\"]\n",
        "for i in range (0,len(menu),1):\n",
        "  if(menu[i] == \"pizza\"):\n",
        "    print(\"Oh! pizza\")\n",
        "\n",
        "if \"pizza\" in menu:\n",
        "  print(\"Oh! pizza\")\n",
        "\n",
        "sum = 0\n",
        "temps = [27,30,32,34,39,25]\n",
        "for i in temps:\n",
        "  sum = sum + i;\n",
        "\n",
        "#소수 두 번째 자리까지 나타내기\n",
        "print(f\"Avg = {sum/len(temps):,.2f}\")"
      ],
      "metadata": {
        "colab": {
          "base_uri": "https://localhost:8080/"
        },
        "id": "Z0GOSkM7CBTJ",
        "outputId": "b13864fb-85b9-44f3-ce52-82e064d14e93"
      },
      "execution_count": null,
      "outputs": [
        {
          "output_type": "stream",
          "name": "stdout",
          "text": [
            "True\n",
            "False\n",
            "False\n",
            "True\n",
            "Oh! pizza\n",
            "Oh! pizza\n",
            "Avg = 31.17\n"
          ]
        }
      ]
    },
    {
      "cell_type": "markdown",
      "source": [
        "##딕셔너리 \n",
        "+ 사전처럼 키(Key)와 값(Value)으로 된 자료 저장 ( key - value )\n",
        "+ 중괄호를 사용해 딕셔너리 정의 { key1 : value1 , key2 : value2}\n",
        "+ key는 숫자형과 문자열, value는 숫자형, 문자열, 리스트가 될 수 있음\n",
        "+ 한 닥셔너리 안에서 키를 중복할 수 없음\n",
        "\n",
        "ex) fruit = {'사과':'apple', '바나나':'banana, '파인애플' : 'pineapple'}\n",
        "\n",
        "+ 쌍으로 이루어진 데이터를 저장하는데 유리\n",
        "+ 다양한 속성을 가지는 하나의 객체 \n",
        "\n",
        "ex) user1 = {\"이름\":\"이윤재\" , \"학과\": \"정보컴퓨터공학부\", \"연락처\" : \"3928\" }\n",
        "\n",
        "+ 리스트의 원소로 딕션너리를 사용할 수 잇다.\n",
        "\n",
        "students = [ {\"이름\":\"이윤재\" , \"학과\": \"정보컴퓨터공학부\", \"연락처\" : \"3928\" }, {\"이름\":\"박해민\" , \"학과\": \"LGTWINS\", \"연락처\" : \"1994\" } ]\n",
        "\n",
        "+ key를 이용하여 value를 검색 가능 : dictionary[key] -> value \n",
        "\n",
        "ex) fruit = {'사과':'apple', '바나나':'banana, '파인애플' : 'pineapple'}\n",
        "\n",
        "ex) fruit[\"사과\"] -> apple &nbsp;&nbsp;&nbsp;&nbsp;&nbsp;&nbsp; fruit[\"샤인머스켓\"] -> error발생\n",
        "\n",
        "+ key가 중복되지 않도록 유의하여 dictionary[ key ] = value 로 데이터 추가 (* key가 중복되며 기존의 값이 덮어 써짐)\n",
        "\n",
        "ex) fruit[\"샤인머스켓\"] = \"shinemuscat\"\n",
        "\n",
        "ex) fruit = {'사과':'apple', '바나나':'banana,'샤인머스킷':'shinemuscat' '파인애플' : 'pineapple'}\n",
        "\n",
        "->key값의 기준에 따라 자동 정렬 (dictionary에서는 순서가 중요하지 않음)\n",
        "\n",
        "+ del dictionay[ key ]을 통해 데이터 제거하기\n",
        "\n",
        "ex) del fruit[ '파인애플 ']\n",
        "\n",
        "-> fruit = {'사과':'apple', '바나나':'banana,'샤인머스킷':'shinemuscat' }\n",
        "\n",
        "+ del dictionary 하게 되면 dictionary 전체가 삭제됨\n",
        "\n",
        "\n",
        "##딕셔너리 전용함수\n",
        "+ get(key , value = None) : 주어진 키를 가지고 값을 찾아 반환, 만약 없으면 value 옵션 내용 반환\n",
        "-> dic에 해당 key가 없어도 프로그램이 종료되는것이 아닌 value 옵션에 저장된 내용을 반환\n",
        "+ pop(key) : key에 해당하는 값을 반환하고 항목을 삭제\n",
        "+ keys() : 딕셔너리 안의 모든 키를 반환\n",
        "+ values() : 딕셔너리 안의 모든 값을 반환\n",
        "+ items() : 딕셔너리안의 모든 키와 값을 반환\n",
        "+ upadate(dic) : 기존 딕셔너리에 딕셔너리 dic를 추가\n",
        "+ clear() : 딕셔너리의 모든 항목을 제거\n",
        "\n",
        "###딕셔너리와 제어/반복문\n",
        "+ 멤버연자를 이용해 dictionary에 특정 key의 존재여부를 알 수 있음 -> key error 방지 \n",
        "(.keys(), .values()를 이용해 key/value 리스트를 생성할 수 있다.\n",
        "\n"
      ],
      "metadata": {
        "id": "pbAuv3vjSOj7"
      }
    },
    {
      "cell_type": "code",
      "source": [
        "#dictionary ( key : vlaue )\n",
        "food = { \"춘천\":\"닭갈비\",\"횡성\": \"한우\" , \"부산\" : \"밀면\" , \"전주\" :\"비빔밥\"}\n",
        "food['부산']\n",
        "#key error - > food['서울']\n",
        "\n",
        "#새로운 데이터 추가\n",
        "food['포항'] = '과메기'\n",
        "\n",
        "#데이터 삭제\n",
        "del food['춘천']\n",
        "\n",
        "#dictionary의 모든 요소 지우기 -> 비어있는 dic가 남아있음\n",
        "food.clear()\n",
        "\n",
        "#dictionary 자체를 삭제\n",
        "del food # food -> NameError: name 'food' is not defined\n",
        "\n",
        "food = { \"춘천\":\"닭갈비\",\"횡성\": \"한우\" , \"부산\" : \"밀면\" , \"전주\" :\"비빔밥\"}"
      ],
      "metadata": {
        "id": "bBO_c4JPKrjT"
      },
      "execution_count": null,
      "outputs": []
    },
    {
      "cell_type": "code",
      "source": [
        "# key는 문자열, 숫자형 / value는 문자열, 숫자형, list도 가능\n",
        "student1 = {\"이름\":\"이윤재\" , \"학과\": \"정보컴퓨터공학부\", \"연락처\" : [10,3928] }\n",
        "student1"
      ],
      "metadata": {
        "colab": {
          "base_uri": "https://localhost:8080/"
        },
        "id": "HB28qeqmd0-9",
        "outputId": "f94f172a-bc55-4940-9f2f-45bbb09b7659"
      },
      "execution_count": null,
      "outputs": [
        {
          "output_type": "execute_result",
          "data": {
            "text/plain": [
              "{'연락처': [10, 3928], '이름': '이윤재', '학과': '정보컴퓨터공학부'}"
            ]
          },
          "metadata": {},
          "execution_count": 5
        }
      ]
    },
    {
      "cell_type": "code",
      "source": [
        "region = input(\"지역명: \")\n",
        "#food 딕셔너리에 region이라는 key값이 없다면 '모르겠습니다'가 출력?\n",
        "print(\"대표음식은\", food.get(region, '모르겠습니다.'))\n",
        "\n",
        "print(food.keys())\n",
        "print(food.values())\n",
        "\n",
        "if region in food.keys():\n",
        "  print(food[region])\n",
        "else:\n",
        "  print(\"모르겠습니다\")"
      ],
      "metadata": {
        "colab": {
          "base_uri": "https://localhost:8080/"
        },
        "id": "LtUfQkcJfa6Z",
        "outputId": "5e030a61-5444-4ac4-9ec6-967a068c683d"
      },
      "execution_count": null,
      "outputs": [
        {
          "output_type": "stream",
          "name": "stdout",
          "text": [
            "지역명: 부산\n",
            "대표음식은 밀면\n",
            "dict_keys(['춘천', '횡성', '부산', '전주'])\n",
            "dict_values(['닭갈비', '한우', '밀면', '비빔밥'])\n",
            "밀면\n"
          ]
        }
      ]
    },
    {
      "cell_type": "code",
      "source": [
        "menu = {\"아이스 아메리카노\" : 3000 , \"카라멜\" : 4000, \"유자차\" : 3500 }\n",
        "order = input(\"메뉴를 입력하세요.\")\n",
        "print(f\"가격은 {menu.get(order, '없는메뉴입니다')}원 입니다.\")\n",
        "\n",
        "if order in menu.keys():\n",
        "  print(f\"가격은 {menu[order]}원 입니다.\")\n",
        "else: \n",
        "  print('없는 메뉴 입니다.')"
      ],
      "metadata": {
        "colab": {
          "base_uri": "https://localhost:8080/"
        },
        "id": "ZQgM47bCglXe",
        "outputId": "45da8f12-dc3d-44c2-8f44-77d1dffa04fe"
      },
      "execution_count": null,
      "outputs": [
        {
          "output_type": "stream",
          "name": "stdout",
          "text": [
            "메뉴를 입력하세요.카라멜\n",
            "가격은 4000원 입니다.\n",
            "가격은 4000원 입니다.\n"
          ]
        }
      ]
    },
    {
      "cell_type": "code",
      "source": [
        "#리스트의 원소로 딕셔너리가 사용되는 경우 \n",
        "student1 = {\"이름\":\"이윤재\" , \"학과\": \"정보컴퓨터공학부\", \"연락처\" : 3928}\n",
        "student2 = {\"이름\":\"박해민\" , \"학과\": \"LG트윈스\", \"연락처\" : 1994 }\n",
        "\n",
        "student_list = []\n",
        "student_list.append(student1)\n",
        "student_list.append(student2)\n",
        "\n",
        "for s in student_list:\n",
        "  print(f\"{s['이름']}은 {s['학과']} 소속이고 연락처는 {s['연락처']} 입니다.\" )"
      ],
      "metadata": {
        "colab": {
          "base_uri": "https://localhost:8080/"
        },
        "id": "bw4ydIl8hEcw",
        "outputId": "4f180ec9-4381-4853-daa0-62f6d0037433"
      },
      "execution_count": null,
      "outputs": [
        {
          "output_type": "stream",
          "name": "stdout",
          "text": [
            "이윤재은 정보컴퓨터공학부 소속이고 연락처는 3928 입니다.\n",
            "박해민은 LG트윈스 소속이고 연락처는 1994 입니다.\n"
          ]
        }
      ]
    }
  ]
}