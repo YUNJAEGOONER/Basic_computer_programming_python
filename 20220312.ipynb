{
  "nbformat": 4,
  "nbformat_minor": 0,
  "metadata": {
    "colab": {
      "name": "20220312.ipynb",
      "provenance": [],
      "collapsed_sections": [],
      "authorship_tag": "ABX9TyM7ZkQS/+A8V6cKsOutFsKm",
      "include_colab_link": true
    },
    "kernelspec": {
      "name": "python3",
      "display_name": "Python 3"
    },
    "language_info": {
      "name": "python"
    }
  },
  "cells": [
    {
      "cell_type": "markdown",
      "metadata": {
        "id": "view-in-github",
        "colab_type": "text"
      },
      "source": [
        "<a href=\"https://colab.research.google.com/github/YUNJAEGOONER/Basic_computer_programming_python/blob/main/20220312.ipynb\" target=\"_parent\"><img src=\"https://colab.research.google.com/assets/colab-badge.svg\" alt=\"Open In Colab\"/></a>"
      ]
    },
    {
      "cell_type": "markdown",
      "source": [
        "#Python \n",
        "\n",
        "### Python 소개\n",
        "1. 자연어 유사성\n",
        "2. 간결성 ( 짧은코드 + 단순한 문법 )\n",
        "ex) 들여쓰기를 통해 코드 묶음 지정 ( JAVA, C 같은 경우는 중괄화({ }) 사용 )\n",
        "3. 코드 재사용성 ( 오픈 소스 활용, 다양한 분야를 위한 파이썬 도구들이 공유되=고 있음 => 빠른 개발 속도 )\n",
        "\n",
        "### Python 활용사례\n",
        "1. 인터넷 데이터 수집\n",
        "2. 데이터 분석 ( Python에서는 데이터 분석을 위한 도구들이 제공됨 ) \n",
        "3. 데이터 시각화 ( 데이터의 전체적인 흐름을 볼 수 있음 )\n",
        "4. 머신러닝\n",
        "5. 이미지 및 영상 데이터 처리 \n",
        "6. 음성 인식 및 합성\n"
      ],
      "metadata": {
        "id": "FeIwxnVT7bwq"
      }
    },
    {
      "cell_type": "markdown",
      "source": [
        "# Interpreter vs compiler\n",
        "\n",
        "기계어 \n",
        "+ 컴퓨터가 쓰는 말, 0, 1로 구성 \n",
        "+ 0과 1의 조합으로 몇 가지 기본 명령을 구성하며, 기본 명령을 순차적으로 수행하여 복잡한 목표를 달성\n",
        "\n",
        "프로그래밍 언어 \n",
        "+인간은 기계어를 직접 만들 수 없음 - > 프로그래밍언어 사용 \n",
        "+ 프로그래밍언어는 컴퓨터는 이해를 못하므로 프로그래밍언어를 기계어로 번역하는 프로그램이 필요하다. => 'interpreter' , 'compiler'\n",
        "\n",
        "### Compiler \n",
        "Compiler : 전체 프로그램을 한 번에 번역 ( 번역가 : 책을 모두 번역해서 번역본 제공)\n",
        "\n",
        " -> 실행 속도가 빠름 , 중간에 변경사항이 있게 되면 전체를 다시 번역\n",
        "\n",
        "### Interpreter \n",
        "Interpreter : 한 문장씩 번역 ( 통역사 : 한문장듣고 -> 번역 을 반복 )\n",
        "\n",
        "-> 속도는 느리지만, 중간 중간에 변경 가능 ( 유연성 )\n",
        "\n",
        "-> python은 interpreter 언어 "
      ],
      "metadata": {
        "id": "HMrPXvGzCCd_"
      }
    },
    {
      "cell_type": "code",
      "source": [
        "menu = [\"Hamberger\", \"Pizza\" , \"Pasta\"]\n",
        "if \"Pizza\" in menu:\n",
        "  print(\"Pizza\")"
      ],
      "metadata": {
        "colab": {
          "base_uri": "https://localhost:8080/"
        },
        "id": "PJMaAYj860vw",
        "outputId": "deed9082-30fa-4587-e0a8-623fa6f54d84"
      },
      "execution_count": 1,
      "outputs": [
        {
          "output_type": "stream",
          "name": "stdout",
          "text": [
            "Pizza\n"
          ]
        }
      ]
    },
    {
      "cell_type": "markdown",
      "source": [
        "# 인사말하기 \n",
        "코드에 대한 설명"
      ],
      "metadata": {
        "id": "JIzwognHIcqR"
      }
    },
    {
      "cell_type": "code",
      "source": [
        "print(\"00님, 안녕하세요?\")"
      ],
      "metadata": {
        "id": "K6fRpToPGXY9",
        "colab": {
          "base_uri": "https://localhost:8080/"
        },
        "outputId": "51f8c68a-2095-4dd2-8865-27575f05d8b0"
      },
      "execution_count": 2,
      "outputs": [
        {
          "output_type": "stream",
          "name": "stdout",
          "text": [
            "00님, 안녕하세요?\n"
          ]
        }
      ]
    },
    {
      "cell_type": "markdown",
      "source": [
        "# 작별 인사하기 "
      ],
      "metadata": {
        "id": "v-wbvneUIrxt"
      }
    },
    {
      "cell_type": "code",
      "source": [
        "print(\"안녕히 계세요..\")"
      ],
      "metadata": {
        "colab": {
          "base_uri": "https://localhost:8080/"
        },
        "id": "82cpOwoHIWeL",
        "outputId": "d57c80f0-674a-4a11-9659-3da3fe0196e5"
      },
      "execution_count": 3,
      "outputs": [
        {
          "output_type": "stream",
          "name": "stdout",
          "text": [
            "안녕히 계세요..\n"
          ]
        }
      ]
    }
  ]
}