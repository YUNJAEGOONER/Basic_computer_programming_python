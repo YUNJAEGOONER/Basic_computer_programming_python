{
  "cells": [
    {
      "cell_type": "markdown",
      "metadata": {
        "id": "view-in-github",
        "colab_type": "text"
      },
      "source": [
        "<a href=\"https://colab.research.google.com/github/YUNJAEGOONER/Basic_computer_programming_python/blob/main/Chapter6_%ED%8C%8C%EC%9D%BC_%EC%9E%85%EC%B6%9C%EB%A0%A5.ipynb\" target=\"_parent\"><img src=\"https://colab.research.google.com/assets/colab-badge.svg\" alt=\"Open In Colab\"/></a>"
      ]
    },
    {
      "cell_type": "markdown",
      "metadata": {
        "id": "azUhWcw4N6ot"
      },
      "source": [
        "## 파일 입출력\n",
        "파일 열기 -> 읽기/쓰기 -> 파일 닫기\n",
        "\n",
        "### 파일 열기\n",
        "-> 파일변수 = open(파일경로, 모드)\n",
        "파일경로\n",
        "+ 파일 경로 : 파일의 이름 (파일의 경로)\n",
        "+ 모드 \n",
        "  + 모드 'r' : read (읽기 모드) : 해당 경로에 파일이 없으면 에러 \n",
        "  + 모드 'w' : write : 기존 내용 모두 삭제되고 파일 **처음부터 기록**, 해당 경로에 파일이 없으면 파일 생성\n",
        "  + 모드 'a' : append : 해당 파일 **내용 뒤에 추가**, 해당 경로에 파일이 없으면 파일 생성\n",
        "\n",
        "### 내용 읽기 \n",
        "+ read() : 파일 전체 내용을 읽어옴\n",
        "+ readline() : 파일 내용 중 다음 줄을 읽어옴\n",
        "+ readlines() : 파일 내용 전체를 줄 단위로 읽어옴 -> 한 줄 단위로 리스트에 저장해, 전체 내용이 리스트에 저장됨\n",
        "\n",
        "###내용 쓰기\n",
        "+ write(자료) : 자료를 파일에 기록\n",
        "+ writelines(연속형자료) : 문자열 연속형자료를 한 번에 기록\n",
        "\n",
        "### 파일 닫기\n",
        "-> 파일변수.close()\n",
        "+ 파일을 디스크에 안전하게 저장\n",
        "+ 컴퓨터 메모리 내\"사용중\"인 파일 수를 줄여 컴퓨터 속조 향상\n",
        "\n",
        "### 텍스트파일다루기\n",
        "+ 새로운 파일을 생성하여 내용 기록하기\n",
        "+ 새 파일 생성하기 -> ex) f = open(\"food.txt', 'w)\n",
        "\n",
        "##CSV\n",
        "**Comma-Seperated Values**\n",
        "+ 파일 각 행의 값이 콤마(,)로 분리\n",
        "+ 서로 다른 파일 시스템을 사용하는 컴퓨터 간에 자료를 교환할 때 널리 사용되는 파일 형식\n",
        "\n",
        "CSV 파일 읽기 : CSV 모듈의 reader() 사용\n",
        "CSV 파일 쓰기 : CSV 모듈의 writer() 사용"
      ]
    },
    {
      "cell_type": "code",
      "execution_count": null,
      "metadata": {
        "id": "8rt9b479N36Y",
        "outputId": "f2cbce40-c36c-4c41-ee71-825f9e5ca072",
        "colab": {
          "base_uri": "https://localhost:8080/"
        }
      },
      "outputs": [
        {
          "output_type": "stream",
          "name": "stdout",
          "text": [
            "----- read -----\n",
            "기초컴퓨터프로그래밍\n",
            "부산대학교 스마트 교육 플랫폼\n",
            "Plato\n",
            "\n",
            "----- read line -----\n",
            "기초컴퓨터프로그래밍\n",
            "부산대학교 스마트 교육 플랫폼\n",
            "\n",
            "----- append mode -----\n",
            "----- read lines -----\n",
            "기초컴퓨터프로그래밍\n",
            "부산대학교 스마트 교육 플랫폼\n",
            "Plato\n",
            "정보컴퓨터 공학과\n",
            "-----  with (readline 처럼) ------ \n",
            "1 기초컴퓨터프로그래밍\n",
            "2 부산대학교 스마트 교육 플랫폼\n",
            "3 Plato\n",
            "4 정보컴퓨터 공학과\n",
            "----- 자동으로 file close가 됨 -----\n",
            "기초컴퓨터프로그래밍\n",
            "부산대학교 스마트 교육 플랫폼\n",
            "Plato\n",
            "정보컴퓨터 공학과\n",
            "\n"
          ]
        }
      ],
      "source": [
        "# 새 파일 생성하기 (w모드 -> 기존에 food.txt가 존재했다면,기존 내용이 삭제됨)\n",
        "f = open(\"School.txt\", 'w')\n",
        "# write로 내용 쓰기\n",
        "f.write('기초컴퓨터프로그래밍\\n')\n",
        "f.write('부산대학교 스마트 교육 플랫폼\\n')\n",
        "f.write('Plato\\n')\n",
        "#파일 닫기\n",
        "f.close()\n",
        "\n",
        "#읽기모드('r')로 파일에 기록된 내용 읽기\n",
        "#해당경로에 해당 파일이 없다면 Error 발생\n",
        "f = open('School.txt', 'r')\n",
        "\n",
        "#read -> 파일의 전체내용을 읽어옴\n",
        "print(\"----- read -----\")\n",
        "data = f.read()\n",
        "print(data)\n",
        "f.close()\n",
        "\n",
        "#readline() : 한 줄씩 읽기\n",
        "print(\"----- read line -----\")\n",
        "f = open(\"School.txt\" , 'r')\n",
        "\n",
        "line1 = f.readline()\n",
        "print(line1, end = \"\")\n",
        "\n",
        "line2 = f.readline()\n",
        "print(line2, end=\"\")\n",
        "\n",
        "f.close()\n",
        "\n",
        "#append mode : 새로운 내용을 기존 내용뒤에 추가 \n",
        "print(\"\\n----- append mode -----\")\n",
        "f = open(\"School.txt\", 'a')\n",
        "# 기존의 txt 파일에 해당 내용이 추가됨\n",
        "f.write('정보컴퓨터 공학과\\n')\n",
        "f.close()\n",
        "\n",
        "#readlines() : 모든 내용을 줄 단위로 읽어오기\n",
        "print(\"----- read lines -----\")\n",
        "\n",
        "f = open(\"School.txt\" ,'r')\n",
        "data = f.readlines() #한 문장이 list 단위로 저장됨\n",
        "\n",
        "for i in range (0, len(data), 1):\n",
        "  print(data[i], end=\"\")\n",
        "f.close()\n",
        "\n",
        "\n",
        "#with를 사용하면 자동으로 file close됨\n",
        "print(\"-----  with (readline 처럼) ------ \")\n",
        "with open(\"School.txt\" , 'r') as f:\n",
        "  index = 1\n",
        "  for line in f:\n",
        "    print(f\"{index} {line}\", end=\"\")\n",
        "    index = index + 1\n",
        "\n",
        "print(\"----- 자동으로 file close가 됨 -----\")\n",
        "#자동으로 file이 close됨\n",
        "with open(\"School.txt\" , 'r') as f:\n",
        "  print(f.read())"
      ]
    },
    {
      "cell_type": "code",
      "execution_count": null,
      "metadata": {
        "colab": {
          "base_uri": "https://localhost:8080/"
        },
        "id": "qhNM8KUE3QAG",
        "outputId": "b3e000ef-0601-4e33-c8d4-17f3778d9d4a"
      },
      "outputs": [
        {
          "output_type": "stream",
          "name": "stdout",
          "text": [
            "['학번', '소속', '이름']\n",
            "['2020', '컴퓨터공학과', '김길동']\n",
            "['2021', '소프트웨어학과', '홍길동']\n",
            "['2022', '컴퓨터공학과', '이길동']\n",
            "이름\n",
            "김길동\n",
            "홍길동\n",
            "이길동\n",
            "----- write  -----\n",
            "['순번', '학과코드', '학과명']\n",
            "['1', '001', '컴퓨터공학과']\n",
            "['2', '002', '수학과']\n",
            "['3', '003', '기계공학과']\n"
          ]
        }
      ],
      "source": [
        "#CSV : Comma-Seperated Values\n",
        "\n",
        "import csv\n",
        "f = open(\"학생정보.txt\",'r') #기존과 동일하게 읽기모드로 open\n",
        "data = csv.reader(f) #'reader' 로 읽기\n",
        "\n",
        "for line in data:\n",
        "  print(line)\n",
        "f.close()\n",
        "\n",
        "\n",
        "f = open(\"학생정보.txt\",'r') #기존과 동일하게 읽기모드로 open\n",
        "data = csv.reader(f) #'reader' 로 읽기\n",
        "\n",
        "#이름만 출력하기 -> index로 접근\n",
        "for line in data:\n",
        "  print(line[2])\n",
        "\n",
        "f.close()\n",
        "\n",
        " \n",
        "print(\"----- write  -----\")\n",
        "\n",
        "f = open(\"학과정보.txt\", 'w')\n",
        "wr = csv.writer(f)\n",
        "wr.writerow([\"순번\", \"학과코드\", \"학과명\"])\n",
        "wr.writerow([1, '001', '컴퓨터공학과'])\n",
        "wr.writerow([2, '002' , '수학과'])\n",
        "f.close()\n",
        "\n",
        "# append in csv\n",
        "f = open(\"학과정보.txt\" , 'a')\n",
        "wr = csv.writer(f)\n",
        "wr.writerow([3, \"003\" , \"기계공학과\"])\n",
        "f.close()\n",
        "\n",
        "f = open(\"학과정보.txt\", \"r\")\n",
        "data = csv.reader(f)\n",
        "\n",
        "for element in data:\n",
        "  print(element)\n",
        "f.close()"
      ]
    },
    {
      "cell_type": "markdown",
      "metadata": {
        "id": "VHLyJ7qERQAr"
      },
      "source": [
        "### 컴퓨터 파일\n",
        "+ 파일 사용의 유용성 : 장기간 보관하거나 이후 재사용 및 공유 가능\n",
        "\n",
        "=> 파일로 저장한 후 파이썬을 통해 순식간에 데이터를 읽어 들여 데이터를 분석하고 그 결과를 역시 파일로 저장\n",
        "\n",
        "### 파일의 종류\n",
        "+ 텍스트 파일(text file)\n",
        "  + 문자데이터만 포함\n",
        "  + 메모장 등 일반 적인 문자 편집 프로그램으로 읽고 쓸 수 있임\n",
        "\n",
        "+ 이진 파일(binary file)\n",
        "  + 수치, 이미지, 영상, 소리 등 다양한 형태 데이터 포함\n",
        "  + HWP, Office, 동영상 재생기 등 특수 프로그램 필요\n",
        "\n",
        "### 디렉터리와 파일경로 \n",
        "+ 디렉터리 : 파일을 묶어 놓은 공간\n",
        "+ 파일경로 : 파일이 실제 위치한 디렉터리 명을 계층 구조로 나열\n",
        "\n",
        "###Colab에 파일 업로드/다운로드\n",
        "\n",
        "1) goole.colab 모듈 사용 -> from google.colab import files\n",
        "\n",
        "files.upload() / files.download\n",
        "\n",
        "2) Colab 파일 탐색기 사용\n",
        "\n"
      ]
    },
    {
      "cell_type": "code",
      "execution_count": null,
      "metadata": {
        "id": "s8bG-pTq80lE"
      },
      "outputs": [],
      "source": [
        "from google.colab import files\n",
        "\n",
        "files.upload();\n",
        "\n",
        "files.download('School.txt')"
      ]
    }
  ],
  "metadata": {
    "colab": {
      "collapsed_sections": [],
      "name": "Chapter6_파일_입출력.ipynb",
      "provenance": [],
      "include_colab_link": true
    },
    "kernelspec": {
      "display_name": "Python 3",
      "name": "python3"
    },
    "language_info": {
      "name": "python"
    }
  },
  "nbformat": 4,
  "nbformat_minor": 0
}