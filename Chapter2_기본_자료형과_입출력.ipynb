{
  "nbformat": 4,
  "nbformat_minor": 0,
  "metadata": {
    "colab": {
      "name": "Chapter2_기본_자료형과_입출력.ipynb",
      "provenance": [],
      "collapsed_sections": [],
      "authorship_tag": "ABX9TyMxBjIhJwRamAQdKqp8k0ku",
      "include_colab_link": true
    },
    "kernelspec": {
      "name": "python3",
      "display_name": "Python 3"
    },
    "language_info": {
      "name": "python"
    }
  },
  "cells": [
    {
      "cell_type": "markdown",
      "metadata": {
        "id": "view-in-github",
        "colab_type": "text"
      },
      "source": [
        "<a href=\"https://colab.research.google.com/github/YUNJAEGOONER/Basic_computer_programming_python/blob/main/Chapter2_%EA%B8%B0%EB%B3%B8_%EC%9E%90%EB%A3%8C%ED%98%95%EA%B3%BC_%EC%9E%85%EC%B6%9C%EB%A0%A5.ipynb\" target=\"_parent\"><img src=\"https://colab.research.google.com/assets/colab-badge.svg\" alt=\"Open In Colab\"/></a>"
      ]
    },
    {
      "cell_type": "markdown",
      "source": [
        "#변수와 자료형"
      ],
      "metadata": {
        "id": "sQH-4NALSVSK"
      }
    },
    {
      "cell_type": "markdown",
      "source": [
        "## 변수와 자료형\n",
        "**변수** : 프로그램이 사용하는 데이터를 임시로 저장하는 메모리 공간\n",
        "\n",
        "오른쪽의 값을 왼쪽 변수에 할당\n",
        "\n",
        "ex) a = 5 \n",
        "\n",
        "**변수 이름 명명 규칙**\n",
        "\n",
        "- 변수명은 문자와 숫자, 밑줄 기호만으로 구성되어야함\n",
        "- 공백을 포함헤서는 안되며 변수명의 첫 글자는 숫자로 시작 할 수 없음\n",
        "- if, for, True 등 과 같은 예약어는 사용할 수 없음\n",
        "- 유의미하게 변수명을 명명\n",
        "\n",
        "**파이썬 변수의 기본 자료형**\n",
        "\n",
        "기본자료형 \n",
        "- 숫자형 \n",
        "  + 정수형\n",
        "  + 실수형 \n",
        "  + 복소수형 : j를 이용해 허수부 표현\n",
        "- 문자열\n",
        "\n",
        "<!-- 연속자료형 \n",
        "- 리스트\n",
        "- 튜플\n",
        "- 딕셔너리\n",
        "- 집합 -->\n",
        "\n",
        "**산술연산자**\n",
        "(연산자 간 우선 순위에 주의)\n",
        "+ ' + '  : 덧셈\n",
        "+ ' - '  : 뺄셈\n",
        "+ ' * '  : 곱셈\n",
        "+ ' / '  : 나눗셈\n",
        "+ ' % '  : 나머지 연산자 (mod)\n",
        "+ ' // ' : 몫 \n",
        "+ ' ** ' : 지수승\n",
        "\n",
        "**복합연산자**\n",
        "\n",
        "변수의 현재 값에 연산을 수행한 결과를 다시 해당 변수에 저장하는 경우 사용가능\n",
        "\n",
        "ex) a = a + b  => a += b\n",
        "\n",
        "\n",
        "\n"
      ],
      "metadata": {
        "id": "sHVVTLleJ3a6"
      }
    },
    {
      "cell_type": "code",
      "source": [
        "a = 5 \n",
        "b = 2\n",
        "a"
      ],
      "metadata": {
        "colab": {
          "base_uri": "https://localhost:8080/"
        },
        "id": "WzgGjbUCN2Zu",
        "outputId": "94eb73cf-e418-46c9-ecf7-fe2918d333b4"
      },
      "execution_count": 1,
      "outputs": [
        {
          "output_type": "execute_result",
          "data": {
            "text/plain": [
              "5"
            ]
          },
          "metadata": {},
          "execution_count": 1
        }
      ]
    },
    {
      "cell_type": "code",
      "source": [
        "print(a / b) # 나누기 연산자 2.5\n",
        "print(a // b)  # 몫 연산자 2 \n",
        "print(a % b)  # 나머지 연산자 1 \n",
        "\n",
        "#복합 연산자 \n",
        "a += b # a = a + b\n",
        "print(a)"
      ],
      "metadata": {
        "colab": {
          "base_uri": "https://localhost:8080/"
        },
        "id": "omt-4x9RS9e0",
        "outputId": "e3936284-ddb2-47fd-b98a-b03e6fcddb88"
      },
      "execution_count": 2,
      "outputs": [
        {
          "output_type": "stream",
          "name": "stdout",
          "text": [
            "2.5\n",
            "2\n",
            "1\n",
            "7\n"
          ]
        }
      ]
    },
    {
      "cell_type": "markdown",
      "source": [
        "## 문자열자료\n",
        "문자 자료형 :알파벳, 한글 등의 문자, 0~9의 숫자, 기호  \n",
        "\n",
        "문자열 정의 방법\n",
        "+ 큰 따옴표로 감싸기\n",
        "+ 작은 따옴표로 감싸기\n",
        "+ 큰 따옴표 3개로 감싸기\n",
        "+ 작은 따옴표 3개로 감싸기\n",
        "\n",
        "=> 한 가지 따옴표가 문자열 내에서 사용될 경우를 대비하여 두 가지 지원 \n",
        "\n",
        "ex) 출력하려는 내용에 큰 따옴표가 있는 경우 -> 전체를 작은 따옴표로 감싸기 \n",
        "\n",
        "문자열 저장의 실제모습\n",
        "메모리 하자리마다 하나의 문자가 저장되어 있고, 각 문자에는 순서 번호가 부여 \n",
        "-> index로 접근가능하다 (index의 시작은 항상 0)\n",
        "\n",
        "문자열 슬라이싱\n",
        "여러개의 문자를 한꺼번에 추출 \n",
        "str [시작번호 : 끝 번호 + 1]\n",
        "시작번호 생략 시 : index 0번부터 지정한 index까지\n",
        "\n",
        "끝번호 생략시 : 지정한 index 부터 마지막 index까지 \n",
        "\n",
        "문자열 전용 함수\n",
        "+ count : 문자열에 포함된 특정 문자의 개수 반환\n",
        "+ uppper()/lower() : 모든 문자열을 대문자/소문자로 변환\n",
        "+ replace(A, B [,COUNT])"
      ],
      "metadata": {
        "id": "IzyPZYvtOQDW"
      }
    },
    {
      "cell_type": "code",
      "source": [
        "str1 = \"LG Twins\"\n",
        "str2 = '\"Hello World!\" he says.'\n",
        "\n",
        "#문자열이 긴 경우 \"\"\" s____t____r____i____n____g \"\"\" (작은 따옴표도 가능)\n",
        "str3 = \"\"\"Hoony's backery\"\"\"\n",
        "\n",
        "print(str1[0],str1[1])\n",
        "#음수index \n",
        "print(str1[0],str1[-7])\n",
        "##indexslicing\n",
        "print(str1[3 : 8])\n",
        "print(str2[1 :])\n",
        "\n",
        "#count 함수:해당 문자열에 포함된 특정 문자의 개수를 반환\n",
        "str3.count('o') \n",
        "#find 함수:해당 문자열에 특정 문자가 처음으로 등장하는 index를 반환 \n",
        "str3.find('o')\n",
        "#upper/lower : 해당 문자열의 문자를 모두 대문자/소문자로 바꾸어줌\n",
        "str1.lower()\n",
        "str1.upper()"
      ],
      "metadata": {
        "colab": {
          "base_uri": "https://localhost:8080/",
          "height": 108
        },
        "id": "IrwX4GYhOxer",
        "outputId": "be698207-a69d-4f8f-8b17-586567a9cc0d"
      },
      "execution_count": 3,
      "outputs": [
        {
          "output_type": "stream",
          "name": "stdout",
          "text": [
            "L G\n",
            "L G\n",
            "Twins\n",
            "Hello World!\" he says.\n"
          ]
        },
        {
          "output_type": "execute_result",
          "data": {
            "text/plain": [
              "'LG TWINS'"
            ],
            "application/vnd.google.colaboratory.intrinsic+json": {
              "type": "string"
            }
          },
          "metadata": {},
          "execution_count": 3
        }
      ]
    },
    {
      "cell_type": "markdown",
      "source": [
        "### 입력과 출력\n",
        "\n",
        "입력  \n",
        "\n",
        "input() : 사용자에게서 값을 입력받는 함수로 모든 입력은 \"문자열\"  로 저장된다.\n",
        "\n",
        "함수 내의 문자열을 통해 사용자에게 입력 가이드로 화면상에 표시\n",
        "\n",
        "ex) input (\" 이름을 입력하세요 : \" )\n",
        "\n",
        "정수를 입력받고 싶은 경우 int()를 이용해 문자열 정수로 변환\n",
        "\n",
        "ex) int(input (\"점수를 입력하세요 : ))\n",
        "\n",
        "출력\n",
        "\n",
        "print() : 문자열 및 변수값 출력을 위한 함수\n",
        "\n",
        "문자열 중간 중간 변수값이 출력되어야 하는 경우에는 문자열 포맷팅 방법 사용\n",
        "\n",
        "+ 문자열 포맷팅 : 변수값을 중간에 넣어 문자열을 만든 후 출력\n",
        "  - 형식지정자를 사용한 문자열 포맷팅 ( 정수 형식 지정자 : %d, 문자열 \n",
        "형식지정자 %s.... )  \n",
        "    + %출력을 원하는 경우 %%를 이용하여 % 출력\n",
        "    + 단점 : 변수가 여럿인 경우 코드를 보고 출력될 내용을 한눈에 예상하기 어려움\n",
        "  - fstring \n",
        "    + 문자열 시작 전에 f 또는 F 입력하고, { } 안에 출력하고 싶은 변수를 넣는다. \n",
        "\n",
        "print 함수는 자동으로 줄 바꿈을 해준다.\n",
        "+ 줄바꿈을 하고 싶지 않은 경우에는 뒤에 end=\"\"을 붙여준다\n",
        "\n",
        "\n"
      ],
      "metadata": {
        "id": "C0g8gtXv2oln"
      }
    },
    {
      "cell_type": "code",
      "source": [
        "#input()를 활용해 사용자에게서 값을 입력 받을 수 있음\n",
        "name = input(\"What's your name? : \")\n",
        "print(F\"My name is {name}\")\n",
        "\n",
        "#input()을 통해 받은 입력값은 \"string\"\n",
        "eng = input(\"영어 점수 : \")\n",
        "math = input(\"수학 점수 : \")\n",
        "sum = eng + math \n",
        "print(sum)\n",
        "\n",
        "#int()를 통해 정수 입력받기 + 실수 입력받고 싶은 경우 float()\n",
        "eng_int = int(input(\"영어 점수 : \"))\n",
        "math_int = int(input(\"수학 점수 : \"))\n",
        "sum_int = eng_int + math_int\n",
        "print(sum_int)"
      ],
      "metadata": {
        "colab": {
          "base_uri": "https://localhost:8080/"
        },
        "id": "WimomJA79UaF",
        "outputId": "6bd46876-0102-40cb-f1ec-d177bec04052"
      },
      "execution_count": 4,
      "outputs": [
        {
          "output_type": "stream",
          "name": "stdout",
          "text": [
            "What's your name? : LEE\n",
            "My name is LEE\n",
            "영어 점수 : 95\n",
            "수학 점수 : 96\n",
            "9596\n",
            "영어 점수 : 95\n",
            "수학 점수 : 97\n",
            "192\n"
          ]
        }
      ]
    },
    {
      "cell_type": "code",
      "source": [
        "year = 2022\n",
        "language = \"python\"\n",
        "print(year,\"학년도 기초 컴퓨터 프로그래밍\", language)\n",
        "\n",
        "#형식지정자 \n",
        "print (\"%d학년도 기초 컴퓨터 프로그래밍 %s\" %(year, language))\n",
        "\n",
        "# % 출력을 원하는 경우 %%를 이용하여 % 출력\n",
        "title = 200\n",
        "print(\"악동뮤지션 노래 : %s%%\" %title)\n",
        "\n",
        "#fstring\n",
        "print(f\"{year}학년도 기초 컴퓨터 프로그래밍 {language}\")\n",
        "\n",
        "# end = \"\" (end = \" \"의 경우 띄어쓰기 발생)\n",
        "print(\"악동\")\n",
        "print(\"뮤지션\")\n",
        "\n",
        "print(\"악동\", end=\"\")\n",
        "print(\"뮤지션\")\n",
        "\n",
        "print(\"악동\", end=\" \")\n",
        "print(\"뮤지션\")"
      ],
      "metadata": {
        "colab": {
          "base_uri": "https://localhost:8080/"
        },
        "id": "pLiv7ka36F__",
        "outputId": "f373750f-0df8-4090-d7cf-59577333d490"
      },
      "execution_count": 5,
      "outputs": [
        {
          "output_type": "stream",
          "name": "stdout",
          "text": [
            "2022 학년도 기초 컴퓨터 프로그래밍 python\n",
            "2022학년도 기초 컴퓨터 프로그래밍 python\n",
            "악동뮤지션 노래 : 200%\n",
            "2022학년도 기초 컴퓨터 프로그래밍 python\n",
            "악동\n",
            "뮤지션\n",
            "악동뮤지션\n",
            "악동 뮤지션\n"
          ]
        }
      ]
    },
    {
      "cell_type": "code",
      "source": [
        "(3+6)/(9**2-2)*5"
      ],
      "metadata": {
        "colab": {
          "base_uri": "https://localhost:8080/"
        },
        "id": "c1FcnkIEfLxP",
        "outputId": "ea316151-da28-46b3-ff1f-c1c6311516c6"
      },
      "execution_count": 6,
      "outputs": [
        {
          "output_type": "execute_result",
          "data": {
            "text/plain": [
              "0.5696202531645569"
            ]
          },
          "metadata": {},
          "execution_count": 6
        }
      ]
    }
  ]
}