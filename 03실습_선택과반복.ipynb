{
  "nbformat": 4,
  "nbformat_minor": 0,
  "metadata": {
    "colab": {
      "name": "03실습_선택과반복.ipynb",
      "provenance": [],
      "collapsed_sections": [],
      "include_colab_link": true
    },
    "kernelspec": {
      "name": "python3",
      "display_name": "Python 3"
    },
    "language_info": {
      "name": "python"
    }
  },
  "cells": [
    {
      "cell_type": "markdown",
      "metadata": {
        "id": "view-in-github",
        "colab_type": "text"
      },
      "source": [
        "<a href=\"https://colab.research.google.com/github/YUNJAEGOONER/Basic_computer_programming_python/blob/main/03%EC%8B%A4%EC%8A%B5_%EC%84%A0%ED%83%9D%EA%B3%BC%EB%B0%98%EB%B3%B5.ipynb\" target=\"_parent\"><img src=\"https://colab.research.google.com/assets/colab-badge.svg\" alt=\"Open In Colab\"/></a>"
      ]
    },
    {
      "cell_type": "markdown",
      "metadata": {
        "id": "6LbuZ9B86u2j"
      },
      "source": [
        "# 해결문제1\n",
        "문자열을 입력받아서 문자열에 포함된 숫자들의 합계를 구하시오."
      ]
    },
    {
      "cell_type": "code",
      "source": [
        "#문자열 입력 \n",
        "data = input(\"문자를 입력하세요.\")"
      ],
      "metadata": {
        "colab": {
          "base_uri": "https://localhost:8080/"
        },
        "id": "zVr3c0I7cqOM",
        "outputId": "bd90c198-8fd8-4638-8aaf-5bc810e7a803"
      },
      "execution_count": 1,
      "outputs": [
        {
          "name": "stdout",
          "output_type": "stream",
          "text": [
            "문자를 입력하세요.py12t34h56o789n\n"
          ]
        }
      ]
    },
    {
      "cell_type": "code",
      "source": [
        "#문자열의 첫문자에서 마지막문자까지 \n",
        "\n",
        "sum = 0;\n",
        "for i in range(0,len(data),1):\n",
        "  if ( '0' <=  data[i] and  data[i] <= '9'):\n",
        "    sum = sum + int(data[i])\n",
        "print(sum)"
      ],
      "metadata": {
        "colab": {
          "base_uri": "https://localhost:8080/"
        },
        "id": "n9s3OCwtjvya",
        "outputId": "a84847bb-7ee9-4d97-adb6-4bf5ee7e4e03"
      },
      "execution_count": 2,
      "outputs": [
        {
          "output_type": "stream",
          "name": "stdout",
          "text": [
            "45\n"
          ]
        }
      ]
    },
    {
      "cell_type": "code",
      "metadata": {
        "colab": {
          "base_uri": "https://localhost:8080/"
        },
        "id": "-x986rQYAw48",
        "outputId": "d9fe3c23-daf5-4e89-ff0d-2603aa909805"
      },
      "source": [
        "#출력\n",
        "print(f\"{data}의 포함된 숫자의 합은 {sum}입니다.\")"
      ],
      "execution_count": 3,
      "outputs": [
        {
          "output_type": "stream",
          "name": "stdout",
          "text": [
            "py12t34h56o789n의 포함된 숫자의 합은 45입니다.\n"
          ]
        }
      ]
    },
    {
      "cell_type": "markdown",
      "metadata": {
        "id": "zlguPlWX5lMK"
      },
      "source": [
        "# 해결문제2\n",
        "\n",
        "덧셈, 뺄셈, 곱셈, 나눗셈이 가능한 사칙연산 계산기를 만들어 보자. \n",
        "\n",
        "네 가지 연산자 중 하나와 두 실수를 입력하면 계산 결과를 확인할 수 있다. \n",
        "\n",
        "연산자를 입력하는 대신 ‘exit’을 입력하면 프로그램이 종료된다. \n",
        "\n",
        "주의할 점은 나눗셈 연산에서 0으로 나누는 연산은 허용하지 말아야 한다. "
      ]
    },
    {
      "cell_type": "code",
      "source": [
        "while(True):\n",
        "  op = input(\"연산자 입력(+,-,*,/) : 종료(exit)\")\n",
        "  if op == \"exit\":\n",
        "    break;\n",
        "  else:\n",
        "    a = int(input(\"입력1 : \"))\n",
        "    b = int(input(\"입력2 : \"))\n",
        "    if op == \"+\":\n",
        "      result = a + b\n",
        "    elif op == \"-\":\n",
        "      result = a - b\n",
        "    elif op == \"*\":\n",
        "      result = a * b\n",
        "    elif op == \"/\":\n",
        "      if b == 0:\n",
        "        print(\"0으로 나눌 수 없습니다.\")\n",
        "        continue\n",
        "      else:\n",
        "        result = a / b\n",
        "    else:\n",
        "      print(\"연산자 오류\")\n",
        "      continue\n",
        "    print(result)\n"
      ],
      "metadata": {
        "colab": {
          "base_uri": "https://localhost:8080/"
        },
        "id": "awqpdEIwbRbC",
        "outputId": "028043e2-b232-4b0d-f112-97af08450bd9"
      },
      "execution_count": 4,
      "outputs": [
        {
          "name": "stdout",
          "output_type": "stream",
          "text": [
            "연산자 입력(+,-,*,/) : 종료(exit)*\n",
            "입력1 : 4\n",
            "입력2 : 8\n",
            "32\n",
            "연산자 입력(+,-,*,/) : 종료(exit)/\n",
            "입력1 : 5\n",
            "입력2 : 0\n",
            "0으로 나눌 수 없습니다.\n",
            "연산자 입력(+,-,*,/) : 종료(exit)exit\n"
          ]
        }
      ]
    },
    {
      "cell_type": "markdown",
      "metadata": {
        "id": "zn0xkpVp8DdB"
      },
      "source": [
        "# **실습과제**\n",
        "**리히터 규모에 따른 피해 정도 출력하기**\n",
        "\n",
        "리히터 규모는 1935년 미국 지질학자인 찰스 리히터 (C. Richter)가 지진의 규모를 비교할 수 있도록 제안한 단위이며 “리히터 스케일(Richter scale)”이라고도 한다. 다음 그림은 리히터 규모에 따른 사람의 느낌이나 사물의 피해 정도를 나타낸다. 사용자로부터 지진의 리히터 규모를 입력 받아서 그 영향을 출력하는 프로그램을 작성해 보자.\n",
        "\n",
        "![실습과제4](https://drive.google.com/uc?export=view&id=1fXsPdU2Eb0xDZvfZeniBEgX6MKGP5xnT)"
      ]
    },
    {
      "cell_type": "markdown",
      "metadata": {
        "id": "lkt44mNZzcmj"
      },
      "source": [
        ""
      ]
    },
    {
      "cell_type": "code",
      "source": [
        "scale = float(input(\"Enter the Scale : \"))\n",
        "\n",
        "if 8.0 <= scale:\n",
        "  print(\"거대한 지진으로 모든 마을이 파괴된다.\")\n",
        "elif (7.0 <= scale) and (scale <= 7.9):\n",
        "  print(\"큰 피해를 야기한다. (가옥 전파,교량 파괴,산사태,지각 균열)\")\n",
        "elif (6.1 <= scale) and (scale <= 6.9):\n",
        "  print(\"사람이 사는 곳이 파괴될 수 있다. (가옥 30%이하 파괴)\")\n",
        "elif (5.5 <= scale) and (scale <= 6.0):\n",
        "  print(\"건물에 약간의 손상이 온다.(벽균열, 서있기 곤란)\")\n",
        "elif (3.5 <= scale) and (scale <= 5.4):\n",
        "  print(\"가끔 느껴지고 미약한 피해가 발생한다(창문 흔들리고 물건 떨어짐)\")\n",
        "else:\n",
        "  print(\"사람이 거의 느끼지 못하지만 기록된다.\")"
      ],
      "metadata": {
        "id": "CZR8L-e9MS-2",
        "colab": {
          "base_uri": "https://localhost:8080/"
        },
        "outputId": "2e81911b-3a95-4f9a-f6f7-99c4a58eecd4"
      },
      "execution_count": 5,
      "outputs": [
        {
          "output_type": "stream",
          "name": "stdout",
          "text": [
            "Enter the Scale : 1.1\n",
            "사람이 거의 느끼지 못하지만 기록된다.\n"
          ]
        }
      ]
    }
  ]
}