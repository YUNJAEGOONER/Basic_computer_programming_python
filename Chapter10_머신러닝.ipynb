{
  "nbformat": 4,
  "nbformat_minor": 0,
  "metadata": {
    "colab": {
      "name": "Chapter10_머신러닝.ipynb",
      "provenance": [],
      "collapsed_sections": [],
      "mount_file_id": "153dabjxXOTX926c24Qmk2dlimim3CSNY",
      "authorship_tag": "ABX9TyNNx+ArfhEfFhKx/WSFPnp1",
      "include_colab_link": true
    },
    "kernelspec": {
      "name": "python3",
      "display_name": "Python 3"
    },
    "language_info": {
      "name": "python"
    }
  },
  "cells": [
    {
      "cell_type": "markdown",
      "metadata": {
        "id": "view-in-github",
        "colab_type": "text"
      },
      "source": [
        "<a href=\"https://colab.research.google.com/github/YUNJAEGOONER/Basic_computer_programming_python/blob/main/Chapter10_%EB%A8%B8%EC%8B%A0%EB%9F%AC%EB%8B%9D.ipynb\" target=\"_parent\"><img src=\"https://colab.research.google.com/assets/colab-badge.svg\" alt=\"Open In Colab\"/></a>"
      ]
    },
    {
      "cell_type": "markdown",
      "source": [
        "##머신러닝\n",
        "머신러닝(machine learning): 컴퓨터가 자료로부터 유의미한 규칙을 스스로 찾아내는 것\n",
        "\n",
        "###지도학습 (Supervised learning)\n",
        ": 문제와 정답(label)을 모두 알려주고 학습 -> 분류, 회기(예측) \n",
        "\n",
        "분류 : 범주가 지정되어있음\n",
        "###비지도 학습 (Unsupervised learning)\n",
        ": 답을 알려주지 않고 학습 (데이터의 특성을 스스로 파악) -> 군집, 연관 규칙 추출\n",
        "\n",
        "군집 : 유사한것들을 모아서 한 그룹으로 만들어줌 \n",
        "###강화학습 (Reinforcement learning)\n",
        ": 외부 환경과 지속적으로 상호작용하면서 이득을 최대화하는 방식으로 목표 달성 -> 최대 이득\n"
      ],
      "metadata": {
        "id": "DsPJisg0VVm2"
      }
    },
    {
      "cell_type": "markdown",
      "source": [
        "##머신러닝 절차\n",
        "+ 엔트리 인공지능 확장블록\n",
        "+ 파이썬 인공지는 관련 패키지/모듈\n",
        "\n",
        "###머신러닝의 워크플로우\n",
        "1. 데이터 수집\n",
        "2. 점검 및 탐색 (데이터간의 관계,자료형 등)\n",
        "3. 전처리 및 정제 + 테스트 데이터 만들기\n",
        "4. 모델링 및 훈련 (학습모델 선정)\n",
        "5. 평가 (새로운 데이터 또는 테스트 데이터를 이용)\n",
        "6. 배포\n",
        "\n",
        "-> 평가를 통해 만족한 결과를 얻지 못한 경우 다시 모델링 및 훈련단계로 돌아가 훈련의 횟수를 늘리거나, 다른 학습모델을 사용\n",
        "\n"
      ],
      "metadata": {
        "id": "I8B3weauYLqX"
      }
    },
    {
      "cell_type": "markdown",
      "source": [
        "###사이킷런(scikit-learn)모듈\n",
        "+ 파이썬 환경의 머신러닝 공개 모듈\n",
        "+ 문제의 성격에 따라 다른 알고리즘 선택\n",
        "+ 어떤 학습모델을 사용하면 좋을지에 대한 map을 제공\n",
        "\n",
        "###사이킷런 사용 연습\n",
        ": 키를 이용하여 몸무게를 추정해보기\n",
        "\n",
        "1. 100명의 키와 몸무게를 담은 파일 weight.csv 사용하여 데이터프레임 생성\n",
        "2. 데이터 시각화를 통해 자료의 특성 확인\n",
        "3. 사이킷런 함수를 활용한 학습과 예측\n"
      ],
      "metadata": {
        "id": "C7Z6Lo9gZod1"
      }
    },
    {
      "cell_type": "markdown",
      "source": [
        "##선형회귀(linearregression)\n",
        "정의 : 어떤 값이 다른 값에 주는 영향력을 선형적으로 분석하여 입력값에 따른 출력값을 측하는 방법 \n",
        "+ 단변량 회귀 : 입력값이 한개\n",
        "+ 다변량 회귀 : 입력값이 여러개\n",
        "\n",
        "원리 : 처음에 무작위로 y = Wx + b (단변량)를 설정한 뒤 예측값과 실제값의 차이를 반복적으로 계산하면서 모든 학습데이터를 가장 잘 나타낼 수 있는 W와 b를 찾음"
      ],
      "metadata": {
        "id": "vZtzY_GU0NUQ"
      }
    },
    {
      "cell_type": "markdown",
      "source": [
        "1. 데이터 수집 : 7 ~ 9장에서 사용한 car.csv 불러오기 \n",
        "2. 데이터 점검 : 샘플 개수, 자료형, 빠진 정보의 유무 확인, 정보 간 상관관계를 파악\n",
        "3.데이터 전처리 : 데이터프레임에서 입력값과 출력값 분리/ 입력값 : \"표시연비\", 출력값 : CO2배출량 / 평가용 데이터 분리하기 (8 : 2)로 분리 : 가지고 있는 모든 데이터를 학습에 사용하면 해당 데이터에만 잘 동작하는 모델을 생성할 우려 있음, 일부 데이터를 분리해 두었다가 학습 이후 평가에만 사용함으로써 다양한 데이터에 잘 작동하는 예측 모델 생성 가능\n",
        "4. 학습 및 예측 \n",
        "- 선형 회귀 모델 : LinearRegression()\n",
        "- 학습 : fit()\n",
        "- 예측 : predict()\n",
        "5. 평가\n",
        "- score() : 실제 입력값과 출력값을 전달하면 예측 결과와 비교\n",
        "- 학습 데이터로 평가한 경우 : 83.7% 정확도\n",
        "- 평가용 데이터로 평가한 경우 : 81.5%정확도 ->학습데이터로 평가했을 때와 큰 차이가 없으므로 일반적인 데이터에 맞는 모데링 학습되었음을 확인 "
      ],
      "metadata": {
        "id": "X0tYFCqq1MA5"
      }
    },
    {
      "cell_type": "code",
      "execution_count": null,
      "metadata": {
        "id": "meL9JdcRVCks",
        "colab": {
          "base_uri": "https://localhost:8080/",
          "height": 658
        },
        "outputId": "87994d4a-8070-4a6e-b410-81604bf67cf3"
      },
      "outputs": [
        {
          "output_type": "execute_result",
          "data": {
            "text/plain": [
              "                업체명                               모델명  표시연비   배기량  CO2배출량  등급  \\\n",
              "0    폭스바겐그룹코리아 주식회사                         Q2 35 TDI  16.7  1968     111   1   \n",
              "1            현대자동차㈜   아반떼 1.6GDI 하이브리드 (16“타이어)(22MY)  21.1  1580      74   1   \n",
              "2            현대자동차㈜   아반떼 1.6GDI 하이브리드 (17“타이어)(22MY)  19.5  1580      81   1   \n",
              "3     스텔란티스코리아 주식회사       Peugeot New 308 1.5 BlueHDi  17.2  1499     108   1   \n",
              "4     스텔란티스코리아 주식회사          Peugeot 2008 1.5 BlueHDi  17.1  1499     109   1   \n",
              "..              ...                               ...   ...   ...     ...  ..   \n",
              "195  메르세데스-벤츠코리아(주)           Mercedes-Benz GLB 200 d  14.2  1950     133   2   \n",
              "196         BMW코리아㈜                   BMW 320d xDrive  14.1  1995     134   2   \n",
              "197         BMW코리아㈜                          BMW 320d  14.9  1995     126   2   \n",
              "198          현대자동차㈜  코나(PE) 1.6T-GDI 2WD 16인치/17인치타이어  13.9  1598     119   2   \n",
              "199          현대자동차㈜   G70(IK PE) 2.2디젤 2WD_17인치(빌트인캠)  14.7  2199     129   2   \n",
              "\n",
              "       연간유류비  구분  \n",
              "0    1068548  수입  \n",
              "1     982031  국산  \n",
              "2    1062608  국산  \n",
              "3    1037485  수입  \n",
              "4    1043553  수입  \n",
              "..       ...  ..  \n",
              "195  1256673  수입  \n",
              "196  1265585  수입  \n",
              "197  1197634  수입  \n",
              "198  1490709  국산  \n",
              "199  1213929  국산  \n",
              "\n",
              "[200 rows x 8 columns]"
            ],
            "text/html": [
              "\n",
              "  <div id=\"df-558cda7f-5069-4514-ba88-3e0dde721b90\">\n",
              "    <div class=\"colab-df-container\">\n",
              "      <div>\n",
              "<style scoped>\n",
              "    .dataframe tbody tr th:only-of-type {\n",
              "        vertical-align: middle;\n",
              "    }\n",
              "\n",
              "    .dataframe tbody tr th {\n",
              "        vertical-align: top;\n",
              "    }\n",
              "\n",
              "    .dataframe thead th {\n",
              "        text-align: right;\n",
              "    }\n",
              "</style>\n",
              "<table border=\"1\" class=\"dataframe\">\n",
              "  <thead>\n",
              "    <tr style=\"text-align: right;\">\n",
              "      <th></th>\n",
              "      <th>업체명</th>\n",
              "      <th>모델명</th>\n",
              "      <th>표시연비</th>\n",
              "      <th>배기량</th>\n",
              "      <th>CO2배출량</th>\n",
              "      <th>등급</th>\n",
              "      <th>연간유류비</th>\n",
              "      <th>구분</th>\n",
              "    </tr>\n",
              "  </thead>\n",
              "  <tbody>\n",
              "    <tr>\n",
              "      <th>0</th>\n",
              "      <td>폭스바겐그룹코리아 주식회사</td>\n",
              "      <td>Q2 35 TDI</td>\n",
              "      <td>16.7</td>\n",
              "      <td>1968</td>\n",
              "      <td>111</td>\n",
              "      <td>1</td>\n",
              "      <td>1068548</td>\n",
              "      <td>수입</td>\n",
              "    </tr>\n",
              "    <tr>\n",
              "      <th>1</th>\n",
              "      <td>현대자동차㈜</td>\n",
              "      <td>아반떼 1.6GDI 하이브리드 (16“타이어)(22MY)</td>\n",
              "      <td>21.1</td>\n",
              "      <td>1580</td>\n",
              "      <td>74</td>\n",
              "      <td>1</td>\n",
              "      <td>982031</td>\n",
              "      <td>국산</td>\n",
              "    </tr>\n",
              "    <tr>\n",
              "      <th>2</th>\n",
              "      <td>현대자동차㈜</td>\n",
              "      <td>아반떼 1.6GDI 하이브리드 (17“타이어)(22MY)</td>\n",
              "      <td>19.5</td>\n",
              "      <td>1580</td>\n",
              "      <td>81</td>\n",
              "      <td>1</td>\n",
              "      <td>1062608</td>\n",
              "      <td>국산</td>\n",
              "    </tr>\n",
              "    <tr>\n",
              "      <th>3</th>\n",
              "      <td>스텔란티스코리아 주식회사</td>\n",
              "      <td>Peugeot New 308 1.5 BlueHDi</td>\n",
              "      <td>17.2</td>\n",
              "      <td>1499</td>\n",
              "      <td>108</td>\n",
              "      <td>1</td>\n",
              "      <td>1037485</td>\n",
              "      <td>수입</td>\n",
              "    </tr>\n",
              "    <tr>\n",
              "      <th>4</th>\n",
              "      <td>스텔란티스코리아 주식회사</td>\n",
              "      <td>Peugeot 2008 1.5 BlueHDi</td>\n",
              "      <td>17.1</td>\n",
              "      <td>1499</td>\n",
              "      <td>109</td>\n",
              "      <td>1</td>\n",
              "      <td>1043553</td>\n",
              "      <td>수입</td>\n",
              "    </tr>\n",
              "    <tr>\n",
              "      <th>...</th>\n",
              "      <td>...</td>\n",
              "      <td>...</td>\n",
              "      <td>...</td>\n",
              "      <td>...</td>\n",
              "      <td>...</td>\n",
              "      <td>...</td>\n",
              "      <td>...</td>\n",
              "      <td>...</td>\n",
              "    </tr>\n",
              "    <tr>\n",
              "      <th>195</th>\n",
              "      <td>메르세데스-벤츠코리아(주)</td>\n",
              "      <td>Mercedes-Benz GLB 200 d</td>\n",
              "      <td>14.2</td>\n",
              "      <td>1950</td>\n",
              "      <td>133</td>\n",
              "      <td>2</td>\n",
              "      <td>1256673</td>\n",
              "      <td>수입</td>\n",
              "    </tr>\n",
              "    <tr>\n",
              "      <th>196</th>\n",
              "      <td>BMW코리아㈜</td>\n",
              "      <td>BMW 320d xDrive</td>\n",
              "      <td>14.1</td>\n",
              "      <td>1995</td>\n",
              "      <td>134</td>\n",
              "      <td>2</td>\n",
              "      <td>1265585</td>\n",
              "      <td>수입</td>\n",
              "    </tr>\n",
              "    <tr>\n",
              "      <th>197</th>\n",
              "      <td>BMW코리아㈜</td>\n",
              "      <td>BMW 320d</td>\n",
              "      <td>14.9</td>\n",
              "      <td>1995</td>\n",
              "      <td>126</td>\n",
              "      <td>2</td>\n",
              "      <td>1197634</td>\n",
              "      <td>수입</td>\n",
              "    </tr>\n",
              "    <tr>\n",
              "      <th>198</th>\n",
              "      <td>현대자동차㈜</td>\n",
              "      <td>코나(PE) 1.6T-GDI 2WD 16인치/17인치타이어</td>\n",
              "      <td>13.9</td>\n",
              "      <td>1598</td>\n",
              "      <td>119</td>\n",
              "      <td>2</td>\n",
              "      <td>1490709</td>\n",
              "      <td>국산</td>\n",
              "    </tr>\n",
              "    <tr>\n",
              "      <th>199</th>\n",
              "      <td>현대자동차㈜</td>\n",
              "      <td>G70(IK PE) 2.2디젤 2WD_17인치(빌트인캠)</td>\n",
              "      <td>14.7</td>\n",
              "      <td>2199</td>\n",
              "      <td>129</td>\n",
              "      <td>2</td>\n",
              "      <td>1213929</td>\n",
              "      <td>국산</td>\n",
              "    </tr>\n",
              "  </tbody>\n",
              "</table>\n",
              "<p>200 rows × 8 columns</p>\n",
              "</div>\n",
              "      <button class=\"colab-df-convert\" onclick=\"convertToInteractive('df-558cda7f-5069-4514-ba88-3e0dde721b90')\"\n",
              "              title=\"Convert this dataframe to an interactive table.\"\n",
              "              style=\"display:none;\">\n",
              "        \n",
              "  <svg xmlns=\"http://www.w3.org/2000/svg\" height=\"24px\"viewBox=\"0 0 24 24\"\n",
              "       width=\"24px\">\n",
              "    <path d=\"M0 0h24v24H0V0z\" fill=\"none\"/>\n",
              "    <path d=\"M18.56 5.44l.94 2.06.94-2.06 2.06-.94-2.06-.94-.94-2.06-.94 2.06-2.06.94zm-11 1L8.5 8.5l.94-2.06 2.06-.94-2.06-.94L8.5 2.5l-.94 2.06-2.06.94zm10 10l.94 2.06.94-2.06 2.06-.94-2.06-.94-.94-2.06-.94 2.06-2.06.94z\"/><path d=\"M17.41 7.96l-1.37-1.37c-.4-.4-.92-.59-1.43-.59-.52 0-1.04.2-1.43.59L10.3 9.45l-7.72 7.72c-.78.78-.78 2.05 0 2.83L4 21.41c.39.39.9.59 1.41.59.51 0 1.02-.2 1.41-.59l7.78-7.78 2.81-2.81c.8-.78.8-2.07 0-2.86zM5.41 20L4 18.59l7.72-7.72 1.47 1.35L5.41 20z\"/>\n",
              "  </svg>\n",
              "      </button>\n",
              "      \n",
              "  <style>\n",
              "    .colab-df-container {\n",
              "      display:flex;\n",
              "      flex-wrap:wrap;\n",
              "      gap: 12px;\n",
              "    }\n",
              "\n",
              "    .colab-df-convert {\n",
              "      background-color: #E8F0FE;\n",
              "      border: none;\n",
              "      border-radius: 50%;\n",
              "      cursor: pointer;\n",
              "      display: none;\n",
              "      fill: #1967D2;\n",
              "      height: 32px;\n",
              "      padding: 0 0 0 0;\n",
              "      width: 32px;\n",
              "    }\n",
              "\n",
              "    .colab-df-convert:hover {\n",
              "      background-color: #E2EBFA;\n",
              "      box-shadow: 0px 1px 2px rgba(60, 64, 67, 0.3), 0px 1px 3px 1px rgba(60, 64, 67, 0.15);\n",
              "      fill: #174EA6;\n",
              "    }\n",
              "\n",
              "    [theme=dark] .colab-df-convert {\n",
              "      background-color: #3B4455;\n",
              "      fill: #D2E3FC;\n",
              "    }\n",
              "\n",
              "    [theme=dark] .colab-df-convert:hover {\n",
              "      background-color: #434B5C;\n",
              "      box-shadow: 0px 1px 3px 1px rgba(0, 0, 0, 0.15);\n",
              "      filter: drop-shadow(0px 1px 2px rgba(0, 0, 0, 0.3));\n",
              "      fill: #FFFFFF;\n",
              "    }\n",
              "  </style>\n",
              "\n",
              "      <script>\n",
              "        const buttonEl =\n",
              "          document.querySelector('#df-558cda7f-5069-4514-ba88-3e0dde721b90 button.colab-df-convert');\n",
              "        buttonEl.style.display =\n",
              "          google.colab.kernel.accessAllowed ? 'block' : 'none';\n",
              "\n",
              "        async function convertToInteractive(key) {\n",
              "          const element = document.querySelector('#df-558cda7f-5069-4514-ba88-3e0dde721b90');\n",
              "          const dataTable =\n",
              "            await google.colab.kernel.invokeFunction('convertToInteractive',\n",
              "                                                     [key], {});\n",
              "          if (!dataTable) return;\n",
              "\n",
              "          const docLinkHtml = 'Like what you see? Visit the ' +\n",
              "            '<a target=\"_blank\" href=https://colab.research.google.com/notebooks/data_table.ipynb>data table notebook</a>'\n",
              "            + ' to learn more about interactive tables.';\n",
              "          element.innerHTML = '';\n",
              "          dataTable['output_type'] = 'display_data';\n",
              "          await google.colab.output.renderOutput(dataTable, element);\n",
              "          const docLink = document.createElement('div');\n",
              "          docLink.innerHTML = docLinkHtml;\n",
              "          element.appendChild(docLink);\n",
              "        }\n",
              "      </script>\n",
              "    </div>\n",
              "  </div>\n",
              "  "
            ]
          },
          "metadata": {},
          "execution_count": 2
        }
      ],
      "source": [
        "import pandas as pd\n",
        "df = pd.read_csv('/content/drive/MyDrive/2022_기초컴퓨터프로그래밍/기말고사/개념/car.csv')\n",
        "df"
      ]
    },
    {
      "cell_type": "code",
      "source": [
        "df.info()"
      ],
      "metadata": {
        "colab": {
          "base_uri": "https://localhost:8080/"
        },
        "id": "NXImSEZwYyyA",
        "outputId": "a23581f7-376d-4aca-b675-52c86000c17c"
      },
      "execution_count": null,
      "outputs": [
        {
          "output_type": "stream",
          "name": "stdout",
          "text": [
            "<class 'pandas.core.frame.DataFrame'>\n",
            "RangeIndex: 200 entries, 0 to 199\n",
            "Data columns (total 8 columns):\n",
            " #   Column  Non-Null Count  Dtype  \n",
            "---  ------  --------------  -----  \n",
            " 0   업체명     200 non-null    object \n",
            " 1   모델명     200 non-null    object \n",
            " 2   표시연비    200 non-null    float64\n",
            " 3   배기량     200 non-null    int64  \n",
            " 4   CO2배출량  200 non-null    int64  \n",
            " 5   등급      200 non-null    int64  \n",
            " 6   연간유류비   200 non-null    int64  \n",
            " 7   구분      200 non-null    object \n",
            "dtypes: float64(1), int64(4), object(3)\n",
            "memory usage: 12.6+ KB\n"
          ]
        }
      ]
    },
    {
      "cell_type": "code",
      "source": [
        "#corr의 절댓값이 1과 가장 가까울수록 밀접한 관련이 있다고 생각하면된다.\n",
        "corr_matrix = df.corr()\n",
        "corr_matrix['CO2배출량'].sort_values(ascending=False)"
      ],
      "metadata": {
        "colab": {
          "base_uri": "https://localhost:8080/"
        },
        "id": "Jk7HJQIgY9ZG",
        "outputId": "599958f3-175c-40d8-80c9-3baac8295a15"
      },
      "execution_count": null,
      "outputs": [
        {
          "output_type": "execute_result",
          "data": {
            "text/plain": [
              "CO2배출량    1.000000\n",
              "등급        0.769961\n",
              "연간유류비     0.444809\n",
              "배기량       0.042285\n",
              "표시연비     -0.909817\n",
              "Name: CO2배출량, dtype: float64"
            ]
          },
          "metadata": {},
          "execution_count": 9
        }
      ]
    },
    {
      "cell_type": "code",
      "source": [
        "#2차원 행렬로 만들어주기 : column의 개수는 1개, row의 개수는 가지고 있는 데이터 크기만큼(-1)\n",
        "x = df['표시연비'].values.reshape(-1,1)\n",
        "print('표시연비',x[:10],sep='\\n')\n",
        "\n",
        "y = df['CO2배출량'].values.reshape(-1,1)\n",
        "print('CO2배출량',y[:10],sep = '\\n')"
      ],
      "metadata": {
        "colab": {
          "base_uri": "https://localhost:8080/"
        },
        "id": "Dv7icWGqactp",
        "outputId": "ceef1504-9a92-402a-955f-20acae6fe6b3"
      },
      "execution_count": null,
      "outputs": [
        {
          "output_type": "stream",
          "name": "stdout",
          "text": [
            "표시연비\n",
            "[[16.7]\n",
            " [21.1]\n",
            " [19.5]\n",
            " [17.2]\n",
            " [17.1]\n",
            " [18.8]\n",
            " [20.8]\n",
            " [20.5]\n",
            " [19.1]\n",
            " [16.7]]\n",
            "CO2배출량\n",
            "[[111]\n",
            " [ 74]\n",
            " [ 81]\n",
            " [108]\n",
            " [109]\n",
            " [ 84]\n",
            " [ 75]\n",
            " [ 76]\n",
            " [ 82]\n",
            " [ 96]]\n"
          ]
        }
      ]
    },
    {
      "cell_type": "code",
      "source": [
        "from sklearn.model_selection import train_test_split\n",
        "x_train, x_test, y_train, y_test = train_test_split(x,y,test_size = 0.2)\n",
        "print('학습데이터의 샘플 수:', len(x_train))\n",
        "print('평가데이터의 샘플 수:', len(x_test))"
      ],
      "metadata": {
        "colab": {
          "base_uri": "https://localhost:8080/"
        },
        "id": "5LnjCPFlbRPu",
        "outputId": "4fa6f34d-4057-4b55-de44-ef8bfea0d480"
      },
      "execution_count": null,
      "outputs": [
        {
          "output_type": "stream",
          "name": "stdout",
          "text": [
            "학습데이터의 샘플 수: 160\n",
            "평가데이터의 샘플 수: 40\n"
          ]
        }
      ]
    },
    {
      "cell_type": "code",
      "source": [
        "from sklearn.linear_model import LinearRegression\n",
        "\n",
        "lr = LinearRegression()\n",
        "lr.fit(x_train.reshape(-1,1),y_train)\n",
        "y_pred = lr.predict(x_train.reshape(-1,1))\n",
        "\n",
        "for i in range(10):\n",
        "  print(f'실제:{y_train[i]} 예측:{y_pred[i]}')"
      ],
      "metadata": {
        "colab": {
          "base_uri": "https://localhost:8080/"
        },
        "id": "gfLWkJWhcF1h",
        "outputId": "7b218507-9e96-4d82-a4dc-6f87c66d6967"
      },
      "execution_count": null,
      "outputs": [
        {
          "output_type": "stream",
          "name": "stdout",
          "text": [
            "실제:[119] 예측:[128.7363899]\n",
            "실제:[111] 예측:[104.92388781]\n",
            "실제:[109] 예측:[101.26042595]\n",
            "실제:[109] 예측:[125.07292804]\n",
            "실제:[125] 예측:[119.57773525]\n",
            "실제:[134] 예측:[127.82052443]\n",
            "실제:[125] 예측:[120.49360071]\n",
            "실제:[109] 예측:[103.09215688]\n",
            "실제:[97] 예측:[108.58734967]\n",
            "실제:[135] 예측:[128.7363899]\n"
          ]
        }
      ]
    },
    {
      "cell_type": "code",
      "source": [
        "lr.score(x_train,y_train)"
      ],
      "metadata": {
        "colab": {
          "base_uri": "https://localhost:8080/"
        },
        "id": "7UlOL9bddYAO",
        "outputId": "28e471da-6e72-4219-bec5-22a4d589b3b7"
      },
      "execution_count": null,
      "outputs": [
        {
          "output_type": "execute_result",
          "data": {
            "text/plain": [
              "0.8397379202711559"
            ]
          },
          "metadata": {},
          "execution_count": 16
        }
      ]
    },
    {
      "cell_type": "code",
      "source": [
        "lr.score(x_test, y_test)"
      ],
      "metadata": {
        "id": "1zIoxHkqdbpT",
        "outputId": "d9515c32-edc9-4b20-f90e-5b2df6f392fc",
        "colab": {
          "base_uri": "https://localhost:8080/"
        }
      },
      "execution_count": null,
      "outputs": [
        {
          "output_type": "execute_result",
          "data": {
            "text/plain": [
              "0.7649826758261843"
            ]
          },
          "metadata": {},
          "execution_count": 17
        }
      ]
    },
    {
      "cell_type": "code",
      "source": [
        ""
      ],
      "metadata": {
        "id": "EJ8aB1FidfQV"
      },
      "execution_count": null,
      "outputs": []
    }
  ]
}