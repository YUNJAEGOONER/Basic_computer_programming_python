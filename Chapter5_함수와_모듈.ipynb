{
  "nbformat": 4,
  "nbformat_minor": 0,
  "metadata": {
    "colab": {
      "name": "Chapter5_함수와_모듈.ipynb",
      "provenance": [],
      "collapsed_sections": [],
      "authorship_tag": "ABX9TyPSZX3sp5gOPDOJQjJISTTi",
      "include_colab_link": true
    },
    "kernelspec": {
      "name": "python3",
      "display_name": "Python 3"
    },
    "language_info": {
      "name": "python"
    }
  },
  "cells": [
    {
      "cell_type": "markdown",
      "metadata": {
        "id": "view-in-github",
        "colab_type": "text"
      },
      "source": [
        "<a href=\"https://colab.research.google.com/github/YUNJAEGOONER/Basic_computer_programming_python/blob/main/Chapter5_%ED%95%A8%EC%88%98%EC%99%80_%EB%AA%A8%EB%93%88.ipynb\" target=\"_parent\"><img src=\"https://colab.research.google.com/assets/colab-badge.svg\" alt=\"Open In Colab\"/></a>"
      ]
    },
    {
      "cell_type": "markdown",
      "source": [
        "##함수\n",
        "-> x1 을 입력하면 f(x1)에 해당하는 값으로 사상을 시켜주는 식 f(x)\n",
        "\n",
        "-> 컴퓨터의 함수 F 역시 매개 변수 x를 받으면 그에 따라 F(x) 반환 \n",
        "\n",
        "-> Function (\" 기능 \") : 컴퓨터에서 특정한 기능을 수행하는 코드들의 묶음\n",
        "\n",
        "### 함수 사용의 장점\n",
        "+ 나누어 정복 (Divide & Conquer)\n",
        "\n",
        "+ 코드 재사용 => 개발 속도 증대\n",
        "\n",
        "+ 안정성\n",
        "\n",
        "### 함수의 종류\n",
        "- pre-defined \n",
        "  + internal(내장 함수) -> python 기본 library 에서 기본 interpreter가 제공\n",
        "  + external(외장모듈)\n",
        "- user-defined \n",
        "\n",
        "### 함수의 정의와 호출\n",
        "+ 사용자 정의 함수 : 프로그래머가 자신의 특수한 문제를 해결하기 위해 직접만드는 함수\n",
        "\n",
        "정의 방법 : def 예약어를 사용하며 필요에 따라 매개변수(parameter) 를 지정\n",
        "\n",
        "-> def function_name ( parameter )\n",
        "\n",
        "### 함수의 형태\n",
        "+ 매개변수 : 함수 호출 시 인수를 저장하는 변수\n",
        "+ 반환값 : 함수 실행의 결과로 되돌아오는 값\n",
        "\n",
        "\n"
      ],
      "metadata": {
        "id": "2on4bYzvQsah"
      }
    },
    {
      "cell_type": "code",
      "source": [
        "#parameter와 return이 모두 없는 함수 \n",
        "def alertMsg():\n",
        "  print(\"환영합니다.\")\n",
        "\n",
        "alertMsg()\n",
        "\n",
        "#parameter만 있는 함수\n",
        "def workinfo(name, money):\n",
        "  print(f\"가게 : {name}\")\n",
        "  print(f\"시급 : {money}\")\n",
        "\n",
        "workinfo('김밥낙원',8720)\n",
        "\n",
        "#return만 있는 함수 \n",
        "def milkPrice():\n",
        "  return 1200\n",
        "\n",
        "price = milkPrice() \n",
        "print(f\"Price of milk : {price}won\" )\n",
        "\n",
        "#parameter와 return이 모두 있는 경우\n",
        "def BMI(weight, height):\n",
        "  #BMI 값을 계산 후, 그 값을 return \n",
        "  BMI = weight/(height**2)*10000\n",
        "  return BMI \n",
        "\n",
        "w = float(input(\"몸무게를 입력하세요 :\"))\n",
        "h = float(input(\"키를 입력하세요 :\"))\n",
        "BMI = BMI(w,h)\n",
        "print(f\"당신의 BMI는 {BMI}입니다.\")\n",
        "\n",
        "#반환 값이 여러개인 경우 \n",
        "\n",
        "def calculator(num1, num2):\n",
        "  result1 = num1 + num2\n",
        "  result2 = num1 - num2\n",
        "  result3 = num1 * num2\n",
        "  result4 = num1 / num2\n",
        "\n",
        "  return result1, result2, result3, result4\n",
        "\n",
        "#tuple로 return (tuple index로 접근가능)\n",
        "result = calculator(10,20)\n",
        "print(type(result))\n",
        "print(result)\n",
        "print(f\"ADD : {result[0]}, SUB :{result[1]}, MUL :{result[2]}, DIV : {result[3]}\")\n",
        "\n",
        "#각 변수에 하나씩 return을 각각 받는다.\n",
        "add , sub, mul, div = calculator(30,20)\n",
        "print(add,sub,mul, div)\n"
      ],
      "metadata": {
        "id": "vvdDwgwIS_ow",
        "colab": {
          "base_uri": "https://localhost:8080/"
        },
        "outputId": "57888d3d-6279-4930-dd66-10d885fdddc1"
      },
      "execution_count": 1,
      "outputs": [
        {
          "output_type": "stream",
          "name": "stdout",
          "text": [
            "환영합니다.\n",
            "가게 : 김밥낙원\n",
            "시급 : 8720\n",
            "Price of milk : 1200won\n",
            "몸무게를 입력하세요 :72\n",
            "키를 입력하세요 :171\n",
            "당신의 BMI는 24.622960911049553입니다.\n",
            "<class 'tuple'>\n",
            "(30, -10, 200, 0.5)\n",
            "ADD : 30, SUB :-10, MUL :200, DIV : 0.5\n",
            "50 10 600 1.5\n"
          ]
        }
      ]
    },
    {
      "cell_type": "markdown",
      "source": [
        "###파이썬 내장함수\n",
        "\n",
        "+ 파이썬 인터프리터가 제공하는 함수 \n",
        "+ 사용법을 알아두면 개발 속도 및 안전성 향상\n",
        "  + 입출력 관련 내장함수 -> input(), print()\n",
        "  + 자료형 관련 내장함수 ->type()\n",
        "\n",
        "   -> casting : str(),int(),float(), complex(), bool()\n",
        "  + 리스트 관련 내장함수 -> len(), sorted(), sum(), max(), min()\n",
        "  + 반복문 관련 내장함수 : range()\n",
        "\n",
        "   -> range(시작, 끝, 증가단위)\n",
        "\n",
        "###모듈\n",
        "+ 자주 쓰는 기능들을 하나로 묶은 것\n",
        "+ 자주 쓰는 기능은 주로 함수들로 구현되므로 모듈은 \"함수들을 하나로 묶은 것\"으로 볼 수 있음\n",
        "+ 직접 모듈을 작성할 수도 있으나 파이썬에서는 웹 개발, 데이터분석, 인공지능 관련 등 다양한 외장 모듈 활용 가능\n",
        "+ 장점 : 개발시간 단축, 신뢰성 보장, 효율적 분업\n",
        "+ 자주 사용되는 모듈 \n",
        "  + math\n",
        "    -> fabs (절댓값), ceil (올림), floor(내림), trunc (버림), gcd (최대공약수), factorial(팩토리얼) , sqrt(제곱근)\n",
        "  + random\n",
        "  + datetime\n",
        "+ 모듈 사용 기본\n",
        "  + import 모듈명 \n",
        "  + 모듈 내 함수 호출 -> 모듈명.모듈내함수명\n",
        "+ 모듈 사용 고급\n",
        "  + 모듈 별명 사용 -> import 모듈명 as 별명 \n",
        "    \n",
        "    -> 별명으로 모듈명 대체\n",
        "  + 필요한 함수만 import -> from 모듈명 import 함수1, 함수2...\n",
        "    \n",
        "    -> 함수 호출 시 모듈명 생략가능\n"
      ],
      "metadata": {
        "id": "1gdkoXhMz84d"
      }
    },
    {
      "cell_type": "code",
      "source": [
        "#type() -> 자료형 알아보기\n",
        "\n",
        "myVal = 1\n",
        "print(type(myVal))\n",
        "\n",
        "myString = \"HELLO WORLD\"\n",
        "print(type(myString))\n",
        "\n",
        "#자료형 변환 : casting \n",
        "myinteger = int(myVal)\n",
        "print(type(myinteger))\n",
        "\n",
        "myList = [1,5,6,3,5]\n",
        "#len() : 리스트의 길이 return \n",
        "print(len(myList))\n",
        "#sum(), max(), min() : list의 합, 최댓값, 최솟값을 return \n",
        "print(sum(myList), max(myList), min(myList))\n",
        "\n",
        "#sortred() : 주어진 리스트를 정렬 -> myList는 그대로 있음\n",
        "#오름차순 정렬\n",
        "print(sorted(myList))\n",
        "print(sorted(myList, reverse = True))\n",
        "print(myList)\n",
        "\n",
        "#myList가 정렬됨\n",
        "myList.sort()\n",
        "print(myList)\n",
        "\n",
        "for i in range(0,10,2):\n",
        "  print(i, end=\" \")"
      ],
      "metadata": {
        "colab": {
          "base_uri": "https://localhost:8080/"
        },
        "id": "3CSWqzJn1A8Y",
        "outputId": "9ba03e08-71ea-4055-d97c-37620e3094b7"
      },
      "execution_count": 2,
      "outputs": [
        {
          "output_type": "stream",
          "name": "stdout",
          "text": [
            "<class 'int'>\n",
            "<class 'str'>\n",
            "<class 'int'>\n",
            "5\n",
            "20 6 1\n",
            "[1, 3, 5, 5, 6]\n",
            "[6, 5, 5, 3, 1]\n",
            "[1, 5, 6, 3, 5]\n",
            "[1, 3, 5, 5, 6]\n",
            "0 2 4 6 8 "
          ]
        }
      ]
    },
    {
      "cell_type": "code",
      "source": [
        "#math 모듈 import\n",
        "import math\n",
        "\n",
        "#모듈 내 함수 호출\n",
        "sqrt = math.sqrt(9)\n",
        "pow = math.pow(2,10)\n",
        "\n",
        "print(sqrt, pow)\n",
        "\n",
        "#모듈 별명 사용\n",
        "import math as m\n",
        "\n",
        "sqrt = m.sqrt(9)\n",
        "pow = m.pow(2,10)\n",
        "\n",
        "print(sqrt, pow)\n",
        "\n",
        "#필요한 함수만을 import -> 함수 호출 시 모듈명 생략 가능\n",
        "from math import sqrt, pow\n",
        "sqrt = sqrt(9)\n",
        "pow = pow(2,10)\n",
        "\n",
        "print(sqrt, pow)\n",
        "\n",
        "\n",
        "import random\n",
        "\n",
        "print('0 이상 1 미만의 임의의 실수 : ', random.random())\n",
        "print('0 이상 9 이하 임의의 정수 : ', random.randint(0,9))\n",
        "print('0 이상 9 미만 임의의 정수 : ',random.randrange(9))\n",
        "print('0 이상 9 이하 난수 3개 : ',random.sample(range(0,10),3))\n",
        "\n",
        "import datetime\n",
        "today = datetime.date.today()\n",
        "print(f'{today.year}년 {today.month}월 {today.day}일')\n",
        "\n",
        "time = datetime.datetime.now()\n",
        "print(f'{time.year}년 {time.month}월 {time.day}일 현재: {time.hour}시 {time.minute}분 {time.second}초')\n",
        "print(time)"
      ],
      "metadata": {
        "colab": {
          "base_uri": "https://localhost:8080/"
        },
        "id": "NUxD8Pob2yXK",
        "outputId": "9880f67e-110c-4364-d727-89f108523a00"
      },
      "execution_count": 3,
      "outputs": [
        {
          "output_type": "stream",
          "name": "stdout",
          "text": [
            "3.0 1024.0\n",
            "3.0 1024.0\n",
            "3.0 1024.0\n",
            "0 이상 1 미만의 임의의 실수 :  0.35836828393343156\n",
            "0 이상 9 이하 임의의 정수 :  0\n",
            "0 이상 9 미만 임의의 정수 :  6\n",
            "0 이상 9 이하 난수 3개 :  [5, 6, 7]\n",
            "2022년 4월 28일\n",
            "2022년 4월 28일 현재: 12시 29분 45초\n",
            "2022-04-28 12:29:45.279496\n"
          ]
        }
      ]
    }
  ]
}