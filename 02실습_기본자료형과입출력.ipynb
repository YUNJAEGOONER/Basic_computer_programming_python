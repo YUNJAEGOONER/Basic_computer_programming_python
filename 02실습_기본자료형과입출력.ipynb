{
  "nbformat": 4,
  "nbformat_minor": 0,
  "metadata": {
    "colab": {
      "name": "02실습_기본자료형과입출력.ipynb",
      "provenance": [],
      "collapsed_sections": [],
      "include_colab_link": true
    },
    "kernelspec": {
      "name": "python3",
      "display_name": "Python 3"
    },
    "language_info": {
      "name": "python"
    }
  },
  "cells": [
    {
      "cell_type": "markdown",
      "metadata": {
        "id": "view-in-github",
        "colab_type": "text"
      },
      "source": [
        "<a href=\"https://colab.research.google.com/github/YUNJAEGOONER/Basic_computer_programming_python/blob/main/02%EC%8B%A4%EC%8A%B5_%EA%B8%B0%EB%B3%B8%EC%9E%90%EB%A3%8C%ED%98%95%EA%B3%BC%EC%9E%85%EC%B6%9C%EB%A0%A5.ipynb\" target=\"_parent\"><img src=\"https://colab.research.google.com/assets/colab-badge.svg\" alt=\"Open In Colab\"/></a>"
      ]
    },
    {
      "cell_type": "markdown",
      "metadata": {
        "id": "xuVwe_wTcteR"
      },
      "source": [
        "# 해결문제\n",
        "\n"
      ]
    },
    {
      "cell_type": "markdown",
      "metadata": {
        "id": "tc8DnxOSd6yz"
      },
      "source": [
        "\n",
        "\n",
        "---\n",
        "부산대학교 앞에서 분식가게를 시작하였다. \n",
        "\n",
        "메뉴는 떡볶이와 라면, 튀김이다. \n",
        "\n",
        "매일 저녁 가게를 마치면서 정산을 한다. \n",
        "\n",
        "이때 각 메뉴별 매출과 총 매출을 정리하여 아래와 같이 출력해주는 프로그램을 만들어보자.\n",
        "\n",
        "\n",
        "---\n",
        "\n",
        "* 단가\n",
        "  * 떡볶이 : 2000\n",
        "  * 라면 : 3000\n",
        "  * 튀김 : 500\n",
        "\n",
        "* 매출 결과\n",
        "\n",
        "```\n",
        "-----<오늘의 매출 정산>------\n",
        "떡볶이의 매출: 86000원\n",
        "라면의 매출: 186000원\n",
        "튀김의 매출: 44500원\n",
        "오늘의 총 매출은 316500원입니다.\n",
        "```\n"
      ]
    },
    {
      "cell_type": "code",
      "metadata": {
        "id": "FRw8XyS1cUD1"
      },
      "source": [
        "#변수정의 \n",
        "#떡볶이 단가\n",
        "danga1 = 2000\n",
        "\n",
        "#라면 단가\n",
        "danga2 = 3000\n",
        "\n",
        "#튀김 단가\n",
        "danga3 = 500"
      ],
      "execution_count": 1,
      "outputs": []
    },
    {
      "cell_type": "code",
      "metadata": {
        "colab": {
          "base_uri": "https://localhost:8080/"
        },
        "id": "8iGcOWk_jNRo",
        "outputId": "34439037-2fad-4063-feaa-e64ec670b59e"
      },
      "source": [
        "#입력변수\n",
        "#input() 함수는 문자열 입력 => 수치형 자료 int(정수형), float(실수형)\n",
        "\n",
        "n1 = int(input(\"오늘 떡볶이 매출수량 :\"))\n",
        "n2 = int(input(\"오늘 라면 매출수량 :\"))\n",
        "n3 = int(input(\"오늘 튀김 매출수량 :\"))"
      ],
      "execution_count": 2,
      "outputs": [
        {
          "name": "stdout",
          "output_type": "stream",
          "text": [
            "오늘 떡볶이 매출수량 :10\n",
            "오늘 라면 매출수량 :5\n",
            "오늘 튀김 매출수량 :15\n"
          ]
        }
      ]
    },
    {
      "cell_type": "code",
      "metadata": {
        "id": "mPEQRyFJkHNL"
      },
      "source": [
        "#데이터 타입\n"
      ],
      "execution_count": 3,
      "outputs": []
    },
    {
      "cell_type": "code",
      "metadata": {
        "id": "UHSUk0lPjvoc"
      },
      "source": [
        "#메뉴의 매출금액\n",
        "amt1 = danga1 * n1; #떡볶이 금액\n",
        "amt2 = danga2 * n2; #라면 금액\n",
        "amt3 = danga3 * n3; # 튀김금액"
      ],
      "execution_count": 4,
      "outputs": []
    },
    {
      "cell_type": "code",
      "metadata": {
        "id": "ZHXFoQS0k9Ey"
      },
      "source": [
        "#총매출액\n",
        "amt = amt1 + amt2 + amt3"
      ],
      "execution_count": 5,
      "outputs": []
    },
    {
      "cell_type": "code",
      "metadata": {
        "colab": {
          "base_uri": "https://localhost:8080/"
        },
        "id": "pHmtDzURlEZa",
        "outputId": "2f3c55cf-24bb-4dcb-8e83-aa7899d71419"
      },
      "source": [
        "#출력 \n",
        "print('-----<오늘의 매출 정산>------')\n",
        "print(f'떡볶이의 매출:   {amt1} 원')\n",
        "print(f'라면의 매출:   {amt2} 원')\n",
        "print(f'튀김의 매출:   {amt3} 원')\n",
        "print(f'오늘의 매출:   {amt} 원')"
      ],
      "execution_count": 6,
      "outputs": [
        {
          "output_type": "stream",
          "name": "stdout",
          "text": [
            "-----<오늘의 매출 정산>------\n",
            "떡볶이의 매출:   20000 원\n",
            "라면의 매출:   15000 원\n",
            "튀김의 매출:   7500 원\n",
            "오늘의 매출:   42500 원\n"
          ]
        }
      ]
    },
    {
      "cell_type": "markdown",
      "metadata": {
        "id": "_XilGmLsfPbW"
      },
      "source": [
        "# **실습과제**"
      ]
    },
    {
      "cell_type": "markdown",
      "metadata": {
        "id": "A_FC1JcCfYvK"
      },
      "source": [
        "\n",
        "\n",
        "---\n",
        "\n",
        "원의 반지름을 입력받아 아래 공식을 참고해서 원의 넓이와 둘레를 구하고, 아래와 같이 출력해주자.\n",
        "\n",
        "\n",
        "---\n",
        "\n",
        "* 공식\n",
        "  + 원의 면적 : $A = \\pi r^2$\n",
        "  + 원의 둘레 : $C = 2\\pi r$"
      ]
    },
    {
      "cell_type": "code",
      "source": [
        "pi = 3.14\n",
        "radius = int(input(\"반지름의 길이를 입력하세요 :\"))\n",
        "\n",
        "A = pi * radius * radius\n",
        "C = 2 * pi * radius\n",
        "print(f\"원의 넓이는 {A}이고, 원의 둘레는 {C}이다.\")"
      ],
      "metadata": {
        "colab": {
          "base_uri": "https://localhost:8080/"
        },
        "id": "3MUvNWu2_nBT",
        "outputId": "d952739e-9323-40c7-fa99-7ea001d6a75b"
      },
      "execution_count": 7,
      "outputs": [
        {
          "output_type": "stream",
          "name": "stdout",
          "text": [
            "반지름의 길이를 입력하세요 :10\n",
            "원의 넓이는 314.0이고, 원의 둘레는 62.800000000000004이다.\n"
          ]
        }
      ]
    }
  ]
}