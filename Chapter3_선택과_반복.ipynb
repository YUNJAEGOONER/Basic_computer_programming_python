{
  "nbformat": 4,
  "nbformat_minor": 0,
  "metadata": {
    "colab": {
      "name": "Chapter3_선택과_반복.ipynb",
      "provenance": [],
      "collapsed_sections": [],
      "authorship_tag": "ABX9TyPbwWwmnBlnGyC1R5nAl0y0",
      "include_colab_link": true
    },
    "kernelspec": {
      "name": "python3",
      "display_name": "Python 3"
    },
    "language_info": {
      "name": "python"
    }
  },
  "cells": [
    {
      "cell_type": "markdown",
      "metadata": {
        "id": "view-in-github",
        "colab_type": "text"
      },
      "source": [
        "<a href=\"https://colab.research.google.com/github/YUNJAEGOONER/Basic_computer_programming_python/blob/main/Chapter3_%EC%84%A0%ED%83%9D%EA%B3%BC_%EB%B0%98%EB%B3%B5.ipynb\" target=\"_parent\"><img src=\"https://colab.research.google.com/assets/colab-badge.svg\" alt=\"Open In Colab\"/></a>"
      ]
    },
    {
      "cell_type": "markdown",
      "source": [
        "##프로그램 구조\n",
        "+ 순차 구조\n",
        "+ 선택 구조 : 조건이나 선택에 의해 이후의 실행이 달라짐\n",
        "+ 반복구조 : 특정 조건에서 실행을 반복\n",
        "\n",
        "###조건문 \n",
        "**if-else**문의 기본 구조 (들여쓰기 주의)\n",
        "\n",
        "if 조건 **:** 조건이 참이라면 if 안의 문장이 실행 \n",
        "\n",
        "elif **:** (else if) 조건이 여러 개인 경우 elif 사용 \n",
        "\n",
        "else **:** 조건이 거짓이라면 else 안의 문장이 실행\n",
        "\n",
        "\n",
        "###비교연산자\n",
        "-> True / False로 반환\n",
        "+ 같다 a == b \n",
        "+ 다르다 a != b\n",
        "+ 작다 a < b  \n",
        "+ 작거나 같다 a <= b\n",
        "+ 크다 a > b\n",
        "+ 크거나 같다 a >= b\n",
        "\n",
        "###논리연산자\n",
        "-> if 조건문에서 두 가지 이상의 조건을 만족시켜야 할 경우에 활용\n",
        "\n",
        "-> True / False로 반환\n",
        "+ 논리곱 a 'and' b : 둘 다 참이면 참, 하나라도 거짓이면 거짓 \n",
        "+ 논리합 a 'or' b : 둘 중 하나만 참이면 참, 둘 다 거짓인 경우에만 거짓\n",
        "+ 논리 부정 'not' : 참은 거짓, 거짓은 참\n",
        "\n",
        "###중첩 if문 \n",
        "-if문 내에 다른 if문이 사용된 경우\n",
        "-서로 대응되는 if와 else는 들여쓰기 폭이 같아야 함\n",
        "\n",
        "\n",
        "<br>+if와 else절에서 수행하는 명령문이 간단할 경우 전체 조건문을 한 줄로 작성 가능\n"
      ],
      "metadata": {
        "id": "5FX8QTuCQ3_Z"
      }
    },
    {
      "cell_type": "code",
      "source": [
        "price = int(input(\"금액을 입력하세요 : \"))\n",
        "card = input(\"카드종류 입력 : \")\n",
        "\n",
        "shiping_cost = 3000\n",
        "\n",
        "if (price >=  50000 or card == \"python\"):\n",
        "  shiping_cost = 0\n",
        "\n",
        "total_price = price + shiping_cost\n",
        "\n",
        "print(f\"총 지불 금액은 {total_price} 원입니다.\")\n",
        "\n",
        "\n",
        "#if와 else절에서 수행하는 명령문이 간단할 경우 전체 조건문을 한 줄로 작성 가능\n",
        "x = 5 \n",
        "y = 7\n",
        "# (x > y)가 true이면 max = x, else max = y\n",
        "max = x if x > y else y \n",
        "print(max)"
      ],
      "metadata": {
        "colab": {
          "base_uri": "https://localhost:8080/"
        },
        "id": "y44r6JuLZBy-",
        "outputId": "49d88cf3-21d9-4743-b41e-45cd222327ff"
      },
      "execution_count": 1,
      "outputs": [
        {
          "output_type": "stream",
          "name": "stdout",
          "text": [
            "금액을 입력하세요 : 5000\n",
            "카드종류 입력 : python\n",
            "총 지불 금액은 5000 원입니다.\n",
            "7\n"
          ]
        }
      ]
    },
    {
      "cell_type": "code",
      "source": [
        "##중첩 if문\n",
        "price = int(input(\"금액을 입력하세요 : \"))\n",
        "location = input(\"지역을 입력하세요 : \")\n",
        "\n",
        "if location == '제주도':\n",
        "  if price >= 100000:\n",
        "    print(\"무료 배송\")\n",
        "  else:\n",
        "    print(\"배송료 8000원\")\n",
        "else:\n",
        "  if price >= 50000:\n",
        "    print(\"무료 배송\")\n",
        "  else:\n",
        "    print(\"배송료 3000원\")"
      ],
      "metadata": {
        "colab": {
          "base_uri": "https://localhost:8080/"
        },
        "id": "gwRQLZ8NbVWZ",
        "outputId": "b75167cc-e269-4efc-e529-78a28b9a2b77"
      },
      "execution_count": 2,
      "outputs": [
        {
          "output_type": "stream",
          "name": "stdout",
          "text": [
            "금액을 입력하세요 : 150000\n",
            "지역을 입력하세요 : 제주도\n",
            "무료 배송\n"
          ]
        }
      ]
    },
    {
      "cell_type": "code",
      "source": [
        "score = int(input(\"점수를 입력하세요 :\"))\n",
        "\n",
        "if score >= 90:\n",
        "  grade = 'A'\n",
        "elif score >=80:\n",
        "  grade = 'B'\n",
        "else:\n",
        "  grade = 'C'\n",
        "print(f\"Grade : {grade}\")"
      ],
      "metadata": {
        "colab": {
          "base_uri": "https://localhost:8080/"
        },
        "id": "T_CBvg2qcA9e",
        "outputId": "518bd34c-14ae-4294-b877-2635923551c7"
      },
      "execution_count": 3,
      "outputs": [
        {
          "output_type": "stream",
          "name": "stdout",
          "text": [
            "점수를 입력하세요 :95\n",
            "Grade : A\n"
          ]
        }
      ]
    },
    {
      "cell_type": "markdown",
      "source": [
        "## 반복문 \n",
        "-같은 일을 여러 번 수행해야 하는 경우 : for문과 while문을 통해 하나의 명령어를 필요한 횟수만큼 반복 수행\n",
        "+ for문 기본 : for 변수 range (시작값, 끝값+**1**, 증가값) : 반복실행되는 문장들\n",
        "\n",
        "+ while문 기본 : while 조건식 : 반복실행되는 문장들 (조건이 True인 동안 문장을 반복 실행)\n",
        "   \n",
        "    +while문은 범위가 지정되어 있지 않으므로 조건식을 통해 수행횟수 제한\n",
        "\n",
        "### 기타 제어문 \n",
        "\n",
        "+ pass : 아무 것도 수행하지 않고 해당 블록을 종료\n",
        "+ break : 반복문을 강제로 빠져나옴\n",
        "+ continue : 현재 진행중인 작업을 중단하고 while이나 for의 조건 부분으로 돌아가 다시 조건 확인 ( + 현재의 반복 시행을 중단하고 다음 반복 시행으로 넘어감 )\n",
        "\n"
      ],
      "metadata": {
        "id": "W1frakOQJ3E2"
      }
    },
    {
      "cell_type": "code",
      "source": [
        "# 1부터 100 사이 모든 짝수의 합 구하기\n",
        "\n",
        "i = 0\n",
        "sum = 0\n",
        "\n",
        "while True:\n",
        "  i = i + 1\n",
        "  if i % 2 == 1:  \n",
        "    continue    # i가 홀수라면 현재 작업을 중단하고 while의 조건부로 돌아감\n",
        "  if i > 100:\n",
        "    break       # i가 100보다 크다면 프로그램 종료\n",
        "     \n",
        "  print(i,end= \" \") ##end=\"\" -> 이어쓰기 (줄바꾸고 싶지 않을 때) + \" \" 일 경우 한 칸 띄우기 가능\n",
        "  sum = sum + i\n",
        "\n",
        "print(f\"\\n1부터 100까지의 짝수의 합 = {sum}\")"
      ],
      "metadata": {
        "colab": {
          "base_uri": "https://localhost:8080/"
        },
        "id": "yI-sy6brN3u5",
        "outputId": "9715ee10-cd24-4228-cbb0-1cc4af89e107"
      },
      "execution_count": 4,
      "outputs": [
        {
          "output_type": "stream",
          "name": "stdout",
          "text": [
            "2 4 6 8 10 12 14 16 18 20 22 24 26 28 30 32 34 36 38 40 42 44 46 48 50 52 54 56 58 60 62 64 66 68 70 72 74 76 78 80 82 84 86 88 90 92 94 96 98 100 \n",
            "1부터 100까지의 짝수의 합 = 2550\n"
          ]
        }
      ]
    },
    {
      "cell_type": "code",
      "source": [
        "# 1부터 입력받은 수 까지의 합 구하기\n",
        "\n",
        "num = int(input(\"마지막 수 : \"))\n",
        "sum = 0 \n",
        "\n",
        "for i in range(1, num + 1, 1):\n",
        "  sum = sum + i\n",
        "\n",
        "print(f\"1부터 {num}까지의 합은 : {sum}\")"
      ],
      "metadata": {
        "colab": {
          "base_uri": "https://localhost:8080/"
        },
        "id": "JalEzxzwPhgI",
        "outputId": "a808087c-205b-458c-ce1d-0de207b6ff00"
      },
      "execution_count": 5,
      "outputs": [
        {
          "output_type": "stream",
          "name": "stdout",
          "text": [
            "마지막 수 : 100\n",
            "1부터 100까지의 합은 : 5050\n"
          ]
        }
      ]
    },
    {
      "cell_type": "code",
      "source": [
        "n, sum = 0, 0\n",
        "\n",
        "while i <=  num :\n",
        "  sum = sum + i\n",
        "  i = i + 1\n",
        "\n",
        "print(sum)"
      ],
      "metadata": {
        "colab": {
          "base_uri": "https://localhost:8080/"
        },
        "id": "7V0KgiZaQvoq",
        "outputId": "54318b6c-1199-49f0-eaec-a0fc98d1dfd4"
      },
      "execution_count": 6,
      "outputs": [
        {
          "output_type": "stream",
          "name": "stdout",
          "text": [
            "100\n"
          ]
        }
      ]
    }
  ]
}