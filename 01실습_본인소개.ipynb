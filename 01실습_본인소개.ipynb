{
  "cells": [
    {
      "cell_type": "markdown",
      "metadata": {
        "id": "view-in-github",
        "colab_type": "text"
      },
      "source": [
        "<a href=\"https://colab.research.google.com/github/YUNJAEGOONER/Basic_computer_programming_python/blob/main/01%EC%8B%A4%EC%8A%B5_%EB%B3%B8%EC%9D%B8%EC%86%8C%EA%B0%9C.ipynb\" target=\"_parent\"><img src=\"https://colab.research.google.com/assets/colab-badge.svg\" alt=\"Open In Colab\"/></a>"
      ]
    },
    {
      "cell_type": "markdown",
      "metadata": {
        "id": "GQ1ZzC_9VHWA"
      },
      "source": [
        "# **기초 컴퓨터 프로그래밍**"
      ]
    },
    {
      "cell_type": "markdown",
      "metadata": {
        "id": "njfK-CCSVM2-"
      },
      "source": [
        "## 파이썬 (Python)\n",
        "\n"
      ]
    },
    {
      "cell_type": "markdown",
      "metadata": {
        "id": "DP4PDM6ghcIx"
      },
      "source": [
        "### 파이썬 개발 환경\n",
        "![파이썬 개발 환경](https://drive.google.com/uc?export=view&id=1FyuwWCnykJlCwjL4phn93thuCeGyy_Om)"
      ]
    },
    {
      "cell_type": "markdown",
      "metadata": {
        "id": "50aewi0Ph7mY"
      },
      "source": [
        "### 셀(Cell)\n",
        "![셀](https://drive.google.com/uc?export=view&id=1IomDdl01_M5UuVkZry0ugHiLhlZAhf6U)\n",
        "\n",
        "\n",
        "+ 텍스트 셀\n",
        "   + 마크업 언어인 Markdown으로 작성\n",
        "   + 서식이 지정된 텍스트, 이미지, HTML, LaTeX 등을 포함 \n",
        "+ 코드 셀   \n",
        "   + Python 작성 \n",
        "   + 시스템/터미널 명령을 삽입가능(라인 앞에 !를 붙임)\n",
        "+ 코드 출력셀\n",
        "   + 해당 셀 아래 코드 실행 결과\n",
        "   + 코드를 실행하는 동안 발생한 오류에 대한 텍스트, 그래픽 및 정보가 포함"
      ]
    },
    {
      "cell_type": "markdown",
      "metadata": {
        "id": "G-2cd68cVYhM"
      },
      "source": [
        "### 파이썬 출력\n",
        "```python \n",
        "print(출력문자열)\n",
        "```"
      ]
    },
    {
      "cell_type": "code",
      "execution_count": 1,
      "metadata": {
        "colab": {
          "base_uri": "https://localhost:8080/"
        },
        "id": "M9TVTtKsPciI",
        "outputId": "af192ab3-47c3-408f-8c70-a12ec34bff0d"
      },
      "outputs": [
        {
          "output_type": "stream",
          "name": "stdout",
          "text": [
            "Hello Python!!\n"
          ]
        }
      ],
      "source": [
        "print(\"Hello Python!!\")"
      ]
    },
    {
      "cell_type": "markdown",
      "metadata": {
        "id": "W2eo6C8_VjCg"
      },
      "source": [
        "## 마크다운 문법\n",
        "\n",
        "+ https://colab.research.google.com/notebooks/markdown_guide.ipynb\n"
      ]
    },
    {
      "cell_type": "markdown",
      "metadata": {
        "id": "HS4Lre9JXsKd"
      },
      "source": [
        "### Headings are rendered as titles.\n"
      ]
    },
    {
      "cell_type": "markdown",
      "metadata": {
        "id": "Ws3wWE0bVzFg"
      },
      "source": [
        "\n",
        "```markdown\n",
        "# Section 1\n",
        "# Section 2\n",
        "## Sub-section under Section 2\n",
        "### Sub-section under the sub-section under Section 2\n",
        "# Section 3\n",
        "```\n",
        "---"
      ]
    },
    {
      "cell_type": "markdown",
      "metadata": {
        "id": "KMxkXSCpX5i9"
      },
      "source": [
        "### Code blocks"
      ]
    },
    {
      "cell_type": "markdown",
      "metadata": {
        "id": "9LZpVYkRV_8t"
      },
      "source": [
        "\n",
        "````\n",
        "```python\n",
        "print(\"a\")\n",
        "```\n",
        "````\n",
        "\n",
        "---"
      ]
    },
    {
      "cell_type": "markdown",
      "metadata": {
        "id": "2ym1MkGSYCHB"
      },
      "source": [
        "### Ordered lists:"
      ]
    },
    {
      "cell_type": "markdown",
      "metadata": {
        "id": "BwYO8-7yWMct"
      },
      "source": [
        "\n",
        "```markdown\n",
        "1. One\n",
        "1. Two\n",
        "1. Three\n",
        "```\n",
        "\n",
        "\n",
        "---\n",
        "\n"
      ]
    },
    {
      "cell_type": "markdown",
      "metadata": {
        "id": "xwE_x-WRYF36"
      },
      "source": [
        "### Unordered lists:"
      ]
    },
    {
      "cell_type": "markdown",
      "metadata": {
        "id": "tH6uahXmWTRx"
      },
      "source": [
        "\n",
        "```markdown\n",
        "* One\n",
        "* Two\n",
        "* Three\n",
        "```\n",
        "\n",
        "\n",
        "---\n",
        "\n"
      ]
    },
    {
      "cell_type": "markdown",
      "metadata": {
        "id": "KCUGneGCkCZY"
      },
      "source": [
        "* One\n",
        "  * Two\n",
        "  * Three"
      ]
    },
    {
      "cell_type": "markdown",
      "metadata": {
        "id": "OquGxs_HYMTl"
      },
      "source": [
        "### Tables:"
      ]
    },
    {
      "cell_type": "markdown",
      "metadata": {
        "id": "7eqjIvqoWcpk"
      },
      "source": [
        "\n",
        "```markdown\n",
        "First column name  | Second column name \n",
        "-------------------|------------------\n",
        "Row 1, Col 1       | Row 1, Col 2 \n",
        "Row 2, Col 1       | Row 2, Col 2 \n",
        "\n",
        "``` \n",
        "\n",
        "\n",
        "---\n",
        "\n"
      ]
    },
    {
      "cell_type": "markdown",
      "metadata": {
        "id": "8vbUHRYcYP4R"
      },
      "source": [
        "### Horizontal rules:"
      ]
    },
    {
      "cell_type": "markdown",
      "metadata": {
        "id": "eMmsHZycWlyh"
      },
      "source": [
        "\n",
        "```markdown\n",
        "---\n",
        "```\n",
        "\n",
        "\n",
        "---\n",
        "\n"
      ]
    },
    {
      "cell_type": "markdown",
      "metadata": {
        "id": "CxIKQgsCYUYK"
      },
      "source": [
        "### bold text:"
      ]
    },
    {
      "cell_type": "markdown",
      "metadata": {
        "id": "4N_jMbDpW5vN"
      },
      "source": [
        "\n",
        "```markdown\n",
        "**bold text**\n",
        "```\n",
        "\n",
        "\n",
        "---\n",
        "\n"
      ]
    },
    {
      "cell_type": "markdown",
      "metadata": {
        "id": "LJ7Fqp7rYXtb"
      },
      "source": [
        "### italicized text:"
      ]
    },
    {
      "cell_type": "markdown",
      "metadata": {
        "id": "rllIGstbXHZJ"
      },
      "source": [
        "\n",
        "```markdown\n",
        "*italicized text*\n",
        "```\n",
        "\n",
        "\n",
        "---\n",
        "\n"
      ]
    },
    {
      "cell_type": "markdown",
      "metadata": {
        "id": "0Ruf7b7WYcC-"
      },
      "source": [
        "### link :"
      ]
    },
    {
      "cell_type": "markdown",
      "metadata": {
        "id": "YoNT1PCIkrbr"
      },
      "source": [
        "https://www.google.com"
      ]
    },
    {
      "cell_type": "markdown",
      "metadata": {
        "id": "syBgNedDktdt"
      },
      "source": [
        "[A link](https://www.google.com)"
      ]
    },
    {
      "cell_type": "markdown",
      "metadata": {
        "id": "BFpF97WUXYR7"
      },
      "source": [
        "\n",
        "```markdown\n",
        "[A link](https://www.google.com)\n",
        "``` \n",
        "\n",
        "\n",
        "---\n",
        "\n"
      ]
    },
    {
      "cell_type": "markdown",
      "metadata": {
        "id": "IjRbtg_oYehH"
      },
      "source": [
        "### image :"
      ]
    },
    {
      "cell_type": "markdown",
      "metadata": {
        "id": "wGca1sLvXi7Y"
      },
      "source": [
        "\n",
        "```markdown\n",
        "![An image](https://www.google.com/images/rss.png)\t\n",
        "```"
      ]
    },
    {
      "cell_type": "markdown",
      "metadata": {
        "id": "-fhuuTnpk03g"
      },
      "source": [
        "![An image](https://www.google.com/images/rss.png) "
      ]
    },
    {
      "cell_type": "markdown",
      "metadata": {
        "id": "oicGeIJkZKfw"
      },
      "source": [
        "## **자기 소개 과제**"
      ]
    },
    {
      "cell_type": "markdown",
      "metadata": {
        "id": "__u64qz2ZOwl"
      },
      "source": [
        "### 본인 기본 소개\n",
        "* 학과 : 본인학과\n",
        "+ 학번 : 본인학번\n",
        "+ 성명 : 본인성명"
      ]
    },
    {
      "cell_type": "code",
      "execution_count": 2,
      "metadata": {
        "colab": {
          "base_uri": "https://localhost:8080/"
        },
        "id": "WgRtK8kMZU4m",
        "outputId": "515bab68-da62-4974-c624-e75009a22176"
      },
      "outputs": [
        {
          "output_type": "stream",
          "name": "stdout",
          "text": [
            "정보컴퓨터공학부\n",
            "202055650\n",
            "이윤재\n"
          ]
        }
      ],
      "source": [
        "print(\"정보컴퓨터공학부\")\n",
        "print(\"202055650\")\n",
        "print(\"이윤재\")"
      ]
    },
    {
      "cell_type": "markdown",
      "metadata": {
        "id": "bJMe5CLDZYVx"
      },
      "source": [
        "### 참여의지\n",
        "\n"
      ]
    },
    {
      "cell_type": "markdown",
      "metadata": {
        "id": "guqvafmkbaFj"
      },
      "source": [
        "---\n",
        "\n",
        "파이썬 수업 참여 의지를 간단히 작성해 주세요\n",
        "\n",
        "\n",
        "---\n",
        "\n"
      ]
    },
    {
      "cell_type": "code",
      "source": [
        "print(\"건강관리에 유의하며 성실하게 수업에 참여하겠습니다.\")"
      ],
      "metadata": {
        "colab": {
          "base_uri": "https://localhost:8080/"
        },
        "id": "OVClS0cW3SGX",
        "outputId": "9b81085d-cf57-40c9-c2e3-08db996ff061"
      },
      "execution_count": 3,
      "outputs": [
        {
          "output_type": "stream",
          "name": "stdout",
          "text": [
            "건강관리에 유의하며 성실하게 수업에 참여하겠습니다.\n"
          ]
        }
      ]
    }
  ],
  "metadata": {
    "colab": {
      "collapsed_sections": [],
      "name": "01실습_본인소개.ipynb",
      "provenance": [],
      "include_colab_link": true
    },
    "kernelspec": {
      "display_name": "Python 3",
      "name": "python3"
    },
    "language_info": {
      "name": "python"
    }
  },
  "nbformat": 4,
  "nbformat_minor": 0
}